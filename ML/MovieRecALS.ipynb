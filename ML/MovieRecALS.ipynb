{
  "nbformat": 4,
  "nbformat_minor": 0,
  "metadata": {
    "name": "HW2_Movie_Recom",
    "notebookId": 2753858788635060,
    "colab": {
      "name": "HW2_Movie_Recom.ipynb",
      "provenance": [],
      "include_colab_link": true
    },
    "kernelspec": {
      "name": "python3",
      "display_name": "Python 3"
    }
  },
  "cells": [
    {
      "cell_type": "markdown",
      "metadata": {
        "id": "view-in-github",
        "colab_type": "text"
      },
      "source": [
        "<a href=\"https://colab.research.google.com/github/ruoxinli94/Python/blob/master/MovieRecALS.ipynb\" target=\"_parent\"><img src=\"https://colab.research.google.com/assets/colab-badge.svg\" alt=\"Open In Colab\"/></a>"
      ]
    },
    {
      "cell_type": "code",
      "metadata": {
        "id": "t2xySSzFVEpd",
        "colab_type": "code",
        "colab": {
          "base_uri": "https://localhost:8080/",
          "height": 301
        },
        "outputId": "bec9976b-a0c1-49e1-e4db-e09fe77af639"
      },
      "source": [
        "!pip install pyspark\n",
        "import numpy as np\n",
        "import pandas as pd\n",
        "import seaborn as sns\n",
        "import matplotlib.pyplot as plt\n",
        "import math\n",
        "from pyspark import SparkContext\n",
        "sc = SparkContext.getOrCreate()\n",
        "from pyspark.sql import functions as f\n",
        "from pyspark.sql.types import IntegerType, FloatType\n",
        "from mpl_toolkits.mplot3d import axes3d"
      ],
      "execution_count": null,
      "outputs": [
        {
          "output_type": "stream",
          "text": [
            "Collecting pyspark\n",
            "\u001b[?25l  Downloading https://files.pythonhosted.org/packages/8e/b0/bf9020b56492281b9c9d8aae8f44ff51e1bc91b3ef5a884385cb4e389a40/pyspark-3.0.0.tar.gz (204.7MB)\n",
            "\u001b[K     |████████████████████████████████| 204.7MB 61kB/s \n",
            "\u001b[?25hCollecting py4j==0.10.9\n",
            "\u001b[?25l  Downloading https://files.pythonhosted.org/packages/9e/b6/6a4fb90cd235dc8e265a6a2067f2a2c99f0d91787f06aca4bcf7c23f3f80/py4j-0.10.9-py2.py3-none-any.whl (198kB)\n",
            "\u001b[K     |████████████████████████████████| 204kB 43.1MB/s \n",
            "\u001b[?25hBuilding wheels for collected packages: pyspark\n",
            "  Building wheel for pyspark (setup.py) ... \u001b[?25l\u001b[?25hdone\n",
            "  Created wheel for pyspark: filename=pyspark-3.0.0-py2.py3-none-any.whl size=205044182 sha256=4744e23e94c88b16ecc653ad264b8083a51003125f163c7b52390e3254ad8dbb\n",
            "  Stored in directory: /root/.cache/pip/wheels/57/27/4d/ddacf7143f8d5b76c45c61ee2e43d9f8492fc5a8e78ebd7d37\n",
            "Successfully built pyspark\n",
            "Installing collected packages: py4j, pyspark\n",
            "Successfully installed py4j-0.10.9 pyspark-3.0.0\n"
          ],
          "name": "stdout"
        },
        {
          "output_type": "stream",
          "text": [
            "/usr/local/lib/python3.6/dist-packages/statsmodels/tools/_testing.py:19: FutureWarning: pandas.util.testing is deprecated. Use the functions in the public API at pandas.testing instead.\n",
            "  import pandas.util.testing as tm\n"
          ],
          "name": "stderr"
        }
      ]
    },
    {
      "cell_type": "code",
      "metadata": {
        "id": "asVEUTNnVEph",
        "colab_type": "code",
        "colab": {}
      },
      "source": [
        "import os\n",
        "os.environ[\"PYSPARK_PYTHON\"] = \"python3\""
      ],
      "execution_count": null,
      "outputs": []
    },
    {
      "cell_type": "code",
      "metadata": {
        "id": "PdTp-AIHWYkT",
        "colab_type": "code",
        "colab": {
          "base_uri": "https://localhost:8080/",
          "height": 125
        },
        "outputId": "d04ee696-22eb-4853-feef-b6318afeb6f8"
      },
      "source": [
        "from google.colab import drive\n",
        "drive.mount('/content/drive')"
      ],
      "execution_count": null,
      "outputs": [
        {
          "output_type": "stream",
          "text": [
            "Go to this URL in a browser: https://accounts.google.com/o/oauth2/auth?client_id=947318989803-6bn6qk8qdgf4n4g3pfee6491hc0brc4i.apps.googleusercontent.com&redirect_uri=urn%3aietf%3awg%3aoauth%3a2.0%3aoob&response_type=code&scope=email%20https%3a%2f%2fwww.googleapis.com%2fauth%2fdocs.test%20https%3a%2f%2fwww.googleapis.com%2fauth%2fdrive%20https%3a%2f%2fwww.googleapis.com%2fauth%2fdrive.photos.readonly%20https%3a%2f%2fwww.googleapis.com%2fauth%2fpeopleapi.readonly\n",
            "\n",
            "Enter your authorization code:\n",
            "··········\n",
            "Mounted at /content/drive\n"
          ],
          "name": "stdout"
        }
      ]
    },
    {
      "cell_type": "code",
      "metadata": {
        "id": "6XzGGbWBW6jX",
        "colab_type": "code",
        "colab": {
          "base_uri": "https://localhost:8080/",
          "height": 35
        },
        "outputId": "e39afdf0-a4a4-4c0f-deae-98885afeb953"
      },
      "source": [
        "!ls \"/content/drive/My Drive/Data/ml-latest-small\""
      ],
      "execution_count": null,
      "outputs": [
        {
          "output_type": "stream",
          "text": [
            "links.csv  movies.csv  ratings.csv  README.txt\ttags.csv\n"
          ],
          "name": "stdout"
        }
      ]
    },
    {
      "cell_type": "code",
      "metadata": {
        "id": "OiXHacWTVEpk",
        "colab_type": "code",
        "colab": {}
      },
      "source": [
        "from pyspark.sql import SparkSession\n",
        "spark = SparkSession \\\n",
        "    .builder \\\n",
        "    .appName(\"moive analysis\") \\\n",
        "    .config(\"spark.some.config.option\", \"some-value\") \\\n",
        "    .getOrCreate()"
      ],
      "execution_count": null,
      "outputs": []
    },
    {
      "cell_type": "code",
      "metadata": {
        "id": "-fjPdm95VEpm",
        "colab_type": "code",
        "colab": {}
      },
      "source": [
        "#create dataframe\n",
        "movies_df = spark.read.load(\"/content/drive/My Drive/Data/ml-latest-small/movies.csv\", format='csv', header = True)\n",
        "ratings_df = spark.read.load(\"/content/drive/My Drive/Data/ml-latest-small/ratings.csv\", format='csv', header = True)\n",
        "links_df = spark.read.load(\"/content/drive/My Drive/Data/ml-latest-small/links.csv\", format='csv', header = True)\n",
        "tags_df = spark.read.load(\"/content/drive/My Drive/Data/ml-latest-small/tags.csv\", format='csv', header = True)"
      ],
      "execution_count": null,
      "outputs": []
    },
    {
      "cell_type": "code",
      "metadata": {
        "id": "Qwm2dshzVEpq",
        "colab_type": "code",
        "colab": {
          "base_uri": "https://localhost:8080/",
          "height": 475
        },
        "outputId": "5aba91f8-e85e-45ce-9b27-7b62ffcc601b"
      },
      "source": [
        "ratings_df.show()"
      ],
      "execution_count": null,
      "outputs": [
        {
          "output_type": "stream",
          "text": [
            "+------+-------+------+---------+\n",
            "|userId|movieId|rating|timestamp|\n",
            "+------+-------+------+---------+\n",
            "|     1|      1|   4.0|964982703|\n",
            "|     1|      3|   4.0|964981247|\n",
            "|     1|      6|   4.0|964982224|\n",
            "|     1|     47|   5.0|964983815|\n",
            "|     1|     50|   5.0|964982931|\n",
            "|     1|     70|   3.0|964982400|\n",
            "|     1|    101|   5.0|964980868|\n",
            "|     1|    110|   4.0|964982176|\n",
            "|     1|    151|   5.0|964984041|\n",
            "|     1|    157|   5.0|964984100|\n",
            "|     1|    163|   5.0|964983650|\n",
            "|     1|    216|   5.0|964981208|\n",
            "|     1|    223|   3.0|964980985|\n",
            "|     1|    231|   5.0|964981179|\n",
            "|     1|    235|   4.0|964980908|\n",
            "|     1|    260|   5.0|964981680|\n",
            "|     1|    296|   3.0|964982967|\n",
            "|     1|    316|   3.0|964982310|\n",
            "|     1|    333|   5.0|964981179|\n",
            "|     1|    349|   4.0|964982563|\n",
            "+------+-------+------+---------+\n",
            "only showing top 20 rows\n",
            "\n"
          ],
          "name": "stdout"
        }
      ]
    },
    {
      "cell_type": "code",
      "metadata": {
        "id": "QhONQwotVEps",
        "colab_type": "code",
        "colab": {
          "base_uri": "https://localhost:8080/",
          "height": 35
        },
        "outputId": "0f4acadf-fd6c-4b59-8a20-c2d281903f3e"
      },
      "source": [
        "# create RDD \n",
        "textFile = sc.textFile(\"/content/drive/My Drive/Data/ml-latest-small/ratings.csv\")\n",
        "type(textFile)"
      ],
      "execution_count": null,
      "outputs": [
        {
          "output_type": "execute_result",
          "data": {
            "text/plain": [
              "pyspark.rdd.RDD"
            ]
          },
          "metadata": {
            "tags": []
          },
          "execution_count": 8
        }
      ]
    },
    {
      "cell_type": "markdown",
      "metadata": {
        "id": "U5gb-kIkA4NH",
        "colab_type": "text"
      },
      "source": [
        "# Info of Users"
      ]
    },
    {
      "cell_type": "code",
      "metadata": {
        "id": "ZUoPhjIWWV2t",
        "colab_type": "code",
        "colab": {
          "base_uri": "https://localhost:8080/"
        },
        "outputId": "0d3b7bfa-88d3-4bf6-eb7e-57d1c59124c8"
      },
      "source": [
        "ratings_df.select('userID').distinct().count()"
      ],
      "execution_count": null,
      "outputs": [
        {
          "output_type": "execute_result",
          "data": {
            "text/plain": [
              "610"
            ]
          },
          "metadata": {
            "tags": []
          },
          "execution_count": 9
        }
      ]
    },
    {
      "cell_type": "code",
      "metadata": {
        "id": "LbhcMGXbBDVX",
        "colab_type": "code",
        "colab": {
          "base_uri": "https://localhost:8080/"
        },
        "outputId": "108a7ffb-7381-44d9-9349-5ae273f208b3"
      },
      "source": [
        "users_result = ratings_df.groupBy('userID')\\\n",
        ".count().orderBy('count', ascending = False)\n",
        "fig = plt.figure()\n",
        "tmp = sns.distplot(users_result.toPandas()['count'], hist = False)\n",
        "plt.ylabel('percentage')\n",
        "plt.xlabel('number of ratings')\n",
        "tmp.set_title('distribution of number of ratings per user')\n",
        "display(tmp)\n"
      ],
      "execution_count": null,
      "outputs": [
        {
          "output_type": "display_data",
          "data": {
            "text/plain": [
              "<matplotlib.axes._subplots.AxesSubplot at 0x7f1b513357f0>"
            ]
          },
          "metadata": {
            "tags": []
          }
        },
        {
          "output_type": "display_data",
          "data": {
            "image/png": "[encoded data removed]",
            "text/plain": [
              "<Figure size 432x288 with 1 Axes>"
            ]
          },
          "metadata": {
            "tags": [],
            "needs_background": "light"
          }
        }
      ]
    },
    {
      "cell_type": "code",
      "metadata": {
        "id": "n_FiRk8QBDNG",
        "colab_type": "code",
        "colab": {
          "base_uri": "https://localhost:8080/"
        },
        "outputId": "c55ad7cd-b744-473f-9224-580f3b9a1ce4"
      },
      "source": [
        "users_result.toPandas().head()"
      ],
      "execution_count": null,
      "outputs": [
        {
          "output_type": "execute_result",
          "data": {
            "text/html": [
              "<div>\n",
              "<style scoped>\n",
              "    .dataframe tbody tr th:only-of-type {\n",
              "        vertical-align: middle;\n",
              "    }\n",
              "\n",
              "    .dataframe tbody tr th {\n",
              "        vertical-align: top;\n",
              "    }\n",
              "\n",
              "    .dataframe thead th {\n",
              "        text-align: right;\n",
              "    }\n",
              "</style>\n",
              "<table border=\"1\" class=\"dataframe\">\n",
              "  <thead>\n",
              "    <tr style=\"text-align: right;\">\n",
              "      <th></th>\n",
              "      <th>userID</th>\n",
              "      <th>count</th>\n",
              "    </tr>\n",
              "  </thead>\n",
              "  <tbody>\n",
              "    <tr>\n",
              "      <th>0</th>\n",
              "      <td>414</td>\n",
              "      <td>2698</td>\n",
              "    </tr>\n",
              "    <tr>\n",
              "      <th>1</th>\n",
              "      <td>599</td>\n",
              "      <td>2478</td>\n",
              "    </tr>\n",
              "    <tr>\n",
              "      <th>2</th>\n",
              "      <td>474</td>\n",
              "      <td>2108</td>\n",
              "    </tr>\n",
              "    <tr>\n",
              "      <th>3</th>\n",
              "      <td>448</td>\n",
              "      <td>1864</td>\n",
              "    </tr>\n",
              "    <tr>\n",
              "      <th>4</th>\n",
              "      <td>274</td>\n",
              "      <td>1346</td>\n",
              "    </tr>\n",
              "  </tbody>\n",
              "</table>\n",
              "</div>"
            ],
            "text/plain": [
              "  userID  count\n",
              "0    414   2698\n",
              "1    599   2478\n",
              "2    474   2108\n",
              "3    448   1864\n",
              "4    274   1346"
            ]
          },
          "metadata": {
            "tags": []
          },
          "execution_count": 11
        }
      ]
    },
    {
      "cell_type": "markdown",
      "metadata": {
        "id": "-j40kXfHCH06",
        "colab_type": "text"
      },
      "source": [
        "# Info of Movies"
      ]
    },
    {
      "cell_type": "code",
      "metadata": {
        "id": "alACIY02XkOg",
        "colab_type": "code",
        "colab": {
          "base_uri": "https://localhost:8080/"
        },
        "outputId": "f9e449a3-47c9-47e9-8a01-dcefd65a896c"
      },
      "source": [
        "movies_df.select('movieID').distinct().count()"
      ],
      "execution_count": null,
      "outputs": [
        {
          "output_type": "execute_result",
          "data": {
            "text/plain": [
              "9742"
            ]
          },
          "metadata": {
            "tags": []
          },
          "execution_count": 12
        }
      ]
    },
    {
      "cell_type": "code",
      "metadata": {
        "id": "eFqQumXKng-8",
        "colab_type": "code",
        "colab": {
          "base_uri": "https://localhost:8080/"
        },
        "outputId": "e1c8b3fd-a24e-47fc-c57c-673cff64e3c3"
      },
      "source": [
        "# movie that has not been rated \n",
        "movies = ratings_df.select('movieID').distinct()\n",
        "moviearray = [int(row.movieID) for row in movies.collect()]\n",
        "# is in need to pass in an array\n",
        "movienotrate = movies_df[~movies_df['movieID'].isin(moviearray)].orderBy('title')\n",
        "movienotrate.select('title','genres').toPandas()"
      ],
      "execution_count": null,
      "outputs": [
        {
          "output_type": "execute_result",
          "data": {
            "text/html": [
              "<div>\n",
              "<style scoped>\n",
              "    .dataframe tbody tr th:only-of-type {\n",
              "        vertical-align: middle;\n",
              "    }\n",
              "\n",
              "    .dataframe tbody tr th {\n",
              "        vertical-align: top;\n",
              "    }\n",
              "\n",
              "    .dataframe thead th {\n",
              "        text-align: right;\n",
              "    }\n",
              "</style>\n",
              "<table border=\"1\" class=\"dataframe\">\n",
              "  <thead>\n",
              "    <tr style=\"text-align: right;\">\n",
              "      <th></th>\n",
              "      <th>title</th>\n",
              "      <th>genres</th>\n",
              "    </tr>\n",
              "  </thead>\n",
              "  <tbody>\n",
              "    <tr>\n",
              "      <th>0</th>\n",
              "      <td>Browning Version, The (1951)</td>\n",
              "      <td>Drama</td>\n",
              "    </tr>\n",
              "    <tr>\n",
              "      <th>1</th>\n",
              "      <td>Call Northside 777 (1948)</td>\n",
              "      <td>Crime|Drama|Film-Noir</td>\n",
              "    </tr>\n",
              "    <tr>\n",
              "      <th>2</th>\n",
              "      <td>Chalet Girl (2011)</td>\n",
              "      <td>Comedy|Romance</td>\n",
              "    </tr>\n",
              "    <tr>\n",
              "      <th>3</th>\n",
              "      <td>Chosen, The (1981)</td>\n",
              "      <td>Drama</td>\n",
              "    </tr>\n",
              "    <tr>\n",
              "      <th>4</th>\n",
              "      <td>Color of Paradise, The (Rang-e khoda) (1999)</td>\n",
              "      <td>Drama</td>\n",
              "    </tr>\n",
              "    <tr>\n",
              "      <th>5</th>\n",
              "      <td>For All Mankind (1989)</td>\n",
              "      <td>Documentary</td>\n",
              "    </tr>\n",
              "    <tr>\n",
              "      <th>6</th>\n",
              "      <td>I Know Where I'm Going! (1945)</td>\n",
              "      <td>Drama|Romance|War</td>\n",
              "    </tr>\n",
              "    <tr>\n",
              "      <th>7</th>\n",
              "      <td>In the Realms of the Unreal (2004)</td>\n",
              "      <td>Animation|Documentary</td>\n",
              "    </tr>\n",
              "    <tr>\n",
              "      <th>8</th>\n",
              "      <td>Innocents, The (1961)</td>\n",
              "      <td>Drama|Horror|Thriller</td>\n",
              "    </tr>\n",
              "    <tr>\n",
              "      <th>9</th>\n",
              "      <td>Mutiny on the Bounty (1962)</td>\n",
              "      <td>Adventure|Drama|Romance</td>\n",
              "    </tr>\n",
              "    <tr>\n",
              "      <th>10</th>\n",
              "      <td>Niagara (1953)</td>\n",
              "      <td>Drama|Thriller</td>\n",
              "    </tr>\n",
              "    <tr>\n",
              "      <th>11</th>\n",
              "      <td>Parallax View, The (1974)</td>\n",
              "      <td>Thriller</td>\n",
              "    </tr>\n",
              "    <tr>\n",
              "      <th>12</th>\n",
              "      <td>Proof (1991)</td>\n",
              "      <td>Comedy|Drama|Romance</td>\n",
              "    </tr>\n",
              "    <tr>\n",
              "      <th>13</th>\n",
              "      <td>Road Home, The (Wo de fu qin mu qin) (1999)</td>\n",
              "      <td>Drama|Romance</td>\n",
              "    </tr>\n",
              "    <tr>\n",
              "      <th>14</th>\n",
              "      <td>Roaring Twenties, The (1939)</td>\n",
              "      <td>Crime|Drama|Thriller</td>\n",
              "    </tr>\n",
              "    <tr>\n",
              "      <th>15</th>\n",
              "      <td>Scrooge (1970)</td>\n",
              "      <td>Drama|Fantasy|Musical</td>\n",
              "    </tr>\n",
              "    <tr>\n",
              "      <th>16</th>\n",
              "      <td>This Gun for Hire (1942)</td>\n",
              "      <td>Crime|Film-Noir|Thriller</td>\n",
              "    </tr>\n",
              "    <tr>\n",
              "      <th>17</th>\n",
              "      <td>Twentieth Century (1934)</td>\n",
              "      <td>Comedy</td>\n",
              "    </tr>\n",
              "  </tbody>\n",
              "</table>\n",
              "</div>"
            ],
            "text/plain": [
              "                                           title                    genres\n",
              "0                   Browning Version, The (1951)                     Drama\n",
              "1                      Call Northside 777 (1948)     Crime|Drama|Film-Noir\n",
              "2                             Chalet Girl (2011)            Comedy|Romance\n",
              "3                             Chosen, The (1981)                     Drama\n",
              "4   Color of Paradise, The (Rang-e khoda) (1999)                     Drama\n",
              "5                         For All Mankind (1989)               Documentary\n",
              "6                 I Know Where I'm Going! (1945)         Drama|Romance|War\n",
              "7             In the Realms of the Unreal (2004)     Animation|Documentary\n",
              "8                          Innocents, The (1961)     Drama|Horror|Thriller\n",
              "9                    Mutiny on the Bounty (1962)   Adventure|Drama|Romance\n",
              "10                                Niagara (1953)            Drama|Thriller\n",
              "11                     Parallax View, The (1974)                  Thriller\n",
              "12                                  Proof (1991)      Comedy|Drama|Romance\n",
              "13   Road Home, The (Wo de fu qin mu qin) (1999)             Drama|Romance\n",
              "14                  Roaring Twenties, The (1939)      Crime|Drama|Thriller\n",
              "15                                Scrooge (1970)     Drama|Fantasy|Musical\n",
              "16                      This Gun for Hire (1942)  Crime|Film-Noir|Thriller\n",
              "17                      Twentieth Century (1934)                    Comedy"
            ]
          },
          "metadata": {
            "tags": []
          },
          "execution_count": 13
        }
      ]
    },
    {
      "cell_type": "code",
      "metadata": {
        "id": "LLDceQcjntzJ",
        "colab_type": "code",
        "colab": {
          "base_uri": "https://localhost:8080/"
        },
        "outputId": "444e4746-418b-4066-9125-169d5690c7e7"
      },
      "source": [
        "ratings_df.select('movieID').distinct().count()"
      ],
      "execution_count": null,
      "outputs": [
        {
          "output_type": "execute_result",
          "data": {
            "text/plain": [
              "9724"
            ]
          },
          "metadata": {
            "tags": []
          },
          "execution_count": 14
        }
      ]
    },
    {
      "cell_type": "code",
      "metadata": {
        "id": "_SPzKiXE5Y-v",
        "colab_type": "code",
        "colab": {
          "base_uri": "https://localhost:8080/"
        },
        "outputId": "dada2b1c-1350-428b-d411-7921265d23be"
      },
      "source": [
        "movies_df.show(5)"
      ],
      "execution_count": null,
      "outputs": [
        {
          "output_type": "stream",
          "text": [
            "+-------+--------------------+--------------------+\n",
            "|movieId|               title|              genres|\n",
            "+-------+--------------------+--------------------+\n",
            "|      1|    Toy Story (1995)|Adventure|Animati...|\n",
            "|      2|      Jumanji (1995)|Adventure|Childre...|\n",
            "|      3|Grumpier Old Men ...|      Comedy|Romance|\n",
            "|      4|Waiting to Exhale...|Comedy|Drama|Romance|\n",
            "|      5|Father of the Bri...|              Comedy|\n",
            "+-------+--------------------+--------------------+\n",
            "only showing top 5 rows\n",
            "\n"
          ],
          "name": "stdout"
        }
      ]
    },
    {
      "cell_type": "code",
      "metadata": {
        "id": "qKyI-p4lqA2J",
        "colab_type": "code",
        "colab": {
          "base_uri": "https://localhost:8080/"
        },
        "outputId": "ba3ae71d-7fa4-4ee8-a535-1710fdb6d674"
      },
      "source": [
        "movie_result = ratings_df.groupBy(\"movieID\").count()\\\n",
        ".orderBy('count', ascending = False)\n",
        "\n",
        "fig = plt.figure()\n",
        "tmp = sns.distplot(movie_result.toPandas()['count'], color='burlywood', hist=True)\n",
        "plt.ylabel('percentage')\n",
        "plt.xlabel('number of ratings')\n",
        "tmp.set_title('distribution of number of ratings (per movie)')\n",
        "display(tmp)"
      ],
      "execution_count": null,
      "outputs": [
        {
          "output_type": "display_data",
          "data": {
            "text/plain": [
              "<matplotlib.axes._subplots.AxesSubplot at 0x7f1b39907eb8>"
            ]
          },
          "metadata": {
            "tags": []
          }
        },
        {
          "output_type": "display_data",
          "data": {
            "image/png": "[encoded data removed]",
            "text/plain": [
              "<Figure size 432x288 with 1 Axes>"
            ]
          },
          "metadata": {
            "tags": [],
            "needs_background": "light"
          }
        }
      ]
    },
    {
      "cell_type": "code",
      "metadata": {
        "id": "1Oq-PmMYxblZ",
        "colab_type": "code",
        "colab": {
          "base_uri": "https://localhost:8080/"
        },
        "outputId": "aa3205b6-bacf-4889-a89f-7dc23d5a9251"
      },
      "source": [
        "movie_result.toPandas().describe()"
      ],
      "execution_count": null,
      "outputs": [
        {
          "output_type": "execute_result",
          "data": {
            "text/html": [
              "<div>\n",
              "<style scoped>\n",
              "    .dataframe tbody tr th:only-of-type {\n",
              "        vertical-align: middle;\n",
              "    }\n",
              "\n",
              "    .dataframe tbody tr th {\n",
              "        vertical-align: top;\n",
              "    }\n",
              "\n",
              "    .dataframe thead th {\n",
              "        text-align: right;\n",
              "    }\n",
              "</style>\n",
              "<table border=\"1\" class=\"dataframe\">\n",
              "  <thead>\n",
              "    <tr style=\"text-align: right;\">\n",
              "      <th></th>\n",
              "      <th>count</th>\n",
              "    </tr>\n",
              "  </thead>\n",
              "  <tbody>\n",
              "    <tr>\n",
              "      <th>count</th>\n",
              "      <td>9724.000000</td>\n",
              "    </tr>\n",
              "    <tr>\n",
              "      <th>mean</th>\n",
              "      <td>10.369807</td>\n",
              "    </tr>\n",
              "    <tr>\n",
              "      <th>std</th>\n",
              "      <td>22.401005</td>\n",
              "    </tr>\n",
              "    <tr>\n",
              "      <th>min</th>\n",
              "      <td>1.000000</td>\n",
              "    </tr>\n",
              "    <tr>\n",
              "      <th>25%</th>\n",
              "      <td>1.000000</td>\n",
              "    </tr>\n",
              "    <tr>\n",
              "      <th>50%</th>\n",
              "      <td>3.000000</td>\n",
              "    </tr>\n",
              "    <tr>\n",
              "      <th>75%</th>\n",
              "      <td>9.000000</td>\n",
              "    </tr>\n",
              "    <tr>\n",
              "      <th>max</th>\n",
              "      <td>329.000000</td>\n",
              "    </tr>\n",
              "  </tbody>\n",
              "</table>\n",
              "</div>"
            ],
            "text/plain": [
              "             count\n",
              "count  9724.000000\n",
              "mean     10.369807\n",
              "std      22.401005\n",
              "min       1.000000\n",
              "25%       1.000000\n",
              "50%       3.000000\n",
              "75%       9.000000\n",
              "max     329.000000"
            ]
          },
          "metadata": {
            "tags": []
          },
          "execution_count": 17
        }
      ]
    },
    {
      "cell_type": "code",
      "metadata": {
        "id": "b6wHG7pX80gI",
        "colab_type": "code",
        "colab": {
          "base_uri": "https://localhost:8080/"
        },
        "outputId": "26a687eb-576b-4ec8-9e46-73940c3efa9d"
      },
      "source": [
        "movies_genre_temp = movies_df.where('genres is not null')\\\n",
        ".select('title', f.explode(f.split('genres','\\|'))\\\n",
        "        \n",
        "        .alias('genres'))\n",
        "movies_genre_temp.show()"
      ],
      "execution_count": null,
      "outputs": [
        {
          "output_type": "stream",
          "text": [
            "+--------------------+---------+\n",
            "|               title|   genres|\n",
            "+--------------------+---------+\n",
            "|    Toy Story (1995)|Adventure|\n",
            "|    Toy Story (1995)|Animation|\n",
            "|    Toy Story (1995)| Children|\n",
            "|    Toy Story (1995)|   Comedy|\n",
            "|    Toy Story (1995)|  Fantasy|\n",
            "|      Jumanji (1995)|Adventure|\n",
            "|      Jumanji (1995)| Children|\n",
            "|      Jumanji (1995)|  Fantasy|\n",
            "|Grumpier Old Men ...|   Comedy|\n",
            "|Grumpier Old Men ...|  Romance|\n",
            "|Waiting to Exhale...|   Comedy|\n",
            "|Waiting to Exhale...|    Drama|\n",
            "|Waiting to Exhale...|  Romance|\n",
            "|Father of the Bri...|   Comedy|\n",
            "|         Heat (1995)|   Action|\n",
            "|         Heat (1995)|    Crime|\n",
            "|         Heat (1995)| Thriller|\n",
            "|      Sabrina (1995)|   Comedy|\n",
            "|      Sabrina (1995)|  Romance|\n",
            "| Tom and Huck (1995)|Adventure|\n",
            "+--------------------+---------+\n",
            "only showing top 20 rows\n",
            "\n"
          ],
          "name": "stdout"
        }
      ]
    },
    {
      "cell_type": "code",
      "metadata": {
        "id": "p2tkCbY59Oug",
        "colab_type": "code",
        "colab": {
          "base_uri": "https://localhost:8080/"
        },
        "outputId": "7a3d4cf9-3d29-4129-ad4e-290e6453abd6"
      },
      "source": [
        "movies_genres = movies_genre_temp.groupby('genres').count()\\\n",
        ".orderBy('count', ascending = False)\\\n",
        ".toPandas()\n",
        "\n",
        "plt.figure(figsize=(20,3))\n",
        "tmp = sns.barplot(x='genres', y = 'count', data=movies_genres)\n",
        "tmp.set_title('number of movies of each genres', fontsize = 20)\n",
        "display(tmp)"
      ],
      "execution_count": null,
      "outputs": [
        {
          "output_type": "display_data",
          "data": {
            "text/plain": [
              "<matplotlib.axes._subplots.AxesSubplot at 0x7f1b398cb908>"
            ]
          },
          "metadata": {
            "tags": []
          }
        },
        {
          "output_type": "display_data",
          "data": {
            "image/png": "[encoded data removed]",
            "text/plain": [
              "<Figure size 1440x216 with 1 Axes>"
            ]
          },
          "metadata": {
            "tags": [],
            "needs_background": "light"
          }
        }
      ]
    },
    {
      "cell_type": "code",
      "metadata": {
        "id": "oCUG3RVw93s9",
        "colab_type": "code",
        "colab": {
          "base_uri": "https://localhost:8080/"
        },
        "outputId": "cbab9f1f-8347-401d-96b6-986d3df744f5"
      },
      "source": [
        "moviegenrescount = movies_df.select('title', f.explode(f.split('genres','\\|')).alias('genres'))\\\n",
        ".groupBy('genres').count().orderBy('count', ascending = False)\n",
        "moviegenrescount.show()"
      ],
      "execution_count": null,
      "outputs": [
        {
          "output_type": "stream",
          "text": [
            "+------------------+-----+\n",
            "|            genres|count|\n",
            "+------------------+-----+\n",
            "|             Drama| 4361|\n",
            "|            Comedy| 3756|\n",
            "|          Thriller| 1894|\n",
            "|            Action| 1828|\n",
            "|           Romance| 1596|\n",
            "|         Adventure| 1263|\n",
            "|             Crime| 1199|\n",
            "|            Sci-Fi|  980|\n",
            "|            Horror|  978|\n",
            "|           Fantasy|  779|\n",
            "|          Children|  664|\n",
            "|         Animation|  611|\n",
            "|           Mystery|  573|\n",
            "|       Documentary|  440|\n",
            "|               War|  382|\n",
            "|           Musical|  334|\n",
            "|           Western|  167|\n",
            "|              IMAX|  158|\n",
            "|         Film-Noir|   87|\n",
            "|(no genres listed)|   34|\n",
            "+------------------+-----+\n",
            "\n"
          ],
          "name": "stdout"
        }
      ]
    },
    {
      "cell_type": "code",
      "metadata": {
        "id": "xNu77yzz-thz",
        "colab_type": "code",
        "colab": {
          "base_uri": "https://localhost:8080/"
        },
        "outputId": "f35c1c58-1195-4c59-f9a1-e8264cd75b53"
      },
      "source": [
        "movie_genre_title = movies_genre_temp.groupBy('genres')\\\n",
        ".agg(f.collect_list('title')\\\n",
        "     .alias('titles')).toPandas()\n",
        "movie_genre_title.head()"
      ],
      "execution_count": null,
      "outputs": [
        {
          "output_type": "execute_result",
          "data": {
            "text/html": [
              "<div>\n",
              "<style scoped>\n",
              "    .dataframe tbody tr th:only-of-type {\n",
              "        vertical-align: middle;\n",
              "    }\n",
              "\n",
              "    .dataframe tbody tr th {\n",
              "        vertical-align: top;\n",
              "    }\n",
              "\n",
              "    .dataframe thead th {\n",
              "        text-align: right;\n",
              "    }\n",
              "</style>\n",
              "<table border=\"1\" class=\"dataframe\">\n",
              "  <thead>\n",
              "    <tr style=\"text-align: right;\">\n",
              "      <th></th>\n",
              "      <th>genres</th>\n",
              "      <th>titles</th>\n",
              "    </tr>\n",
              "  </thead>\n",
              "  <tbody>\n",
              "    <tr>\n",
              "      <th>0</th>\n",
              "      <td>Crime</td>\n",
              "      <td>[Heat (1995), Casino (1995), Money Train (1995...</td>\n",
              "    </tr>\n",
              "    <tr>\n",
              "      <th>1</th>\n",
              "      <td>Romance</td>\n",
              "      <td>[Grumpier Old Men (1995), Waiting to Exhale (1...</td>\n",
              "    </tr>\n",
              "    <tr>\n",
              "      <th>2</th>\n",
              "      <td>Thriller</td>\n",
              "      <td>[Heat (1995), GoldenEye (1995), Money Train (1...</td>\n",
              "    </tr>\n",
              "    <tr>\n",
              "      <th>3</th>\n",
              "      <td>Adventure</td>\n",
              "      <td>[Toy Story (1995), Jumanji (1995), Tom and Huc...</td>\n",
              "    </tr>\n",
              "    <tr>\n",
              "      <th>4</th>\n",
              "      <td>Drama</td>\n",
              "      <td>[Waiting to Exhale (1995), American President,...</td>\n",
              "    </tr>\n",
              "  </tbody>\n",
              "</table>\n",
              "</div>"
            ],
            "text/plain": [
              "      genres                                             titles\n",
              "0      Crime  [Heat (1995), Casino (1995), Money Train (1995...\n",
              "1    Romance  [Grumpier Old Men (1995), Waiting to Exhale (1...\n",
              "2   Thriller  [Heat (1995), GoldenEye (1995), Money Train (1...\n",
              "3  Adventure  [Toy Story (1995), Jumanji (1995), Tom and Huc...\n",
              "4      Drama  [Waiting to Exhale (1995), American President,..."
            ]
          },
          "metadata": {
            "tags": []
          },
          "execution_count": 21
        }
      ]
    },
    {
      "cell_type": "markdown",
      "metadata": {
        "id": "ReWbCLD8EKjb",
        "colab_type": "text"
      },
      "source": [
        "# Info of Ratings"
      ]
    },
    {
      "cell_type": "code",
      "metadata": {
        "id": "02AYwQ1zEOT9",
        "colab_type": "code",
        "colab": {}
      },
      "source": [
        "rating_result = ratings_df.groupBy('rating').count()\\\n",
        ".withColumn('rating', ratings_df.rating.cast('float'))\\\n",
        ".orderBy('rating', ascending = False)\\\n",
        ".toPandas()"
      ],
      "execution_count": null,
      "outputs": []
    },
    {
      "cell_type": "code",
      "metadata": {
        "id": "I7zXTPh_EiQT",
        "colab_type": "code",
        "colab": {
          "base_uri": "https://localhost:8080/"
        },
        "outputId": "e6ce152f-1d98-49bb-86d9-a3c3c2443de3"
      },
      "source": [
        "rating_result.head()"
      ],
      "execution_count": null,
      "outputs": [
        {
          "output_type": "execute_result",
          "data": {
            "text/html": [
              "<div>\n",
              "<style scoped>\n",
              "    .dataframe tbody tr th:only-of-type {\n",
              "        vertical-align: middle;\n",
              "    }\n",
              "\n",
              "    .dataframe tbody tr th {\n",
              "        vertical-align: top;\n",
              "    }\n",
              "\n",
              "    .dataframe thead th {\n",
              "        text-align: right;\n",
              "    }\n",
              "</style>\n",
              "<table border=\"1\" class=\"dataframe\">\n",
              "  <thead>\n",
              "    <tr style=\"text-align: right;\">\n",
              "      <th></th>\n",
              "      <th>rating</th>\n",
              "      <th>count</th>\n",
              "    </tr>\n",
              "  </thead>\n",
              "  <tbody>\n",
              "    <tr>\n",
              "      <th>0</th>\n",
              "      <td>5.0</td>\n",
              "      <td>13211</td>\n",
              "    </tr>\n",
              "    <tr>\n",
              "      <th>1</th>\n",
              "      <td>4.5</td>\n",
              "      <td>8551</td>\n",
              "    </tr>\n",
              "    <tr>\n",
              "      <th>2</th>\n",
              "      <td>4.0</td>\n",
              "      <td>26818</td>\n",
              "    </tr>\n",
              "    <tr>\n",
              "      <th>3</th>\n",
              "      <td>3.5</td>\n",
              "      <td>13136</td>\n",
              "    </tr>\n",
              "    <tr>\n",
              "      <th>4</th>\n",
              "      <td>3.0</td>\n",
              "      <td>20047</td>\n",
              "    </tr>\n",
              "  </tbody>\n",
              "</table>\n",
              "</div>"
            ],
            "text/plain": [
              "   rating  count\n",
              "0     5.0  13211\n",
              "1     4.5   8551\n",
              "2     4.0  26818\n",
              "3     3.5  13136\n",
              "4     3.0  20047"
            ]
          },
          "metadata": {
            "tags": []
          },
          "execution_count": 23
        }
      ]
    },
    {
      "cell_type": "code",
      "metadata": {
        "id": "OWUyJrV6E2zJ",
        "colab_type": "code",
        "colab": {
          "base_uri": "https://localhost:8080/"
        },
        "outputId": "eb15e351-fc58-4603-8819-e25f3ea20735"
      },
      "source": [
        "fig = plt.figure()\n",
        "tmp = sns.barplot(x='rating', y='count', data = rating_result)\n",
        "tmp.set_title('rating count')\n",
        "display(tmp)"
      ],
      "execution_count": null,
      "outputs": [
        {
          "output_type": "display_data",
          "data": {
            "text/plain": [
              "<matplotlib.axes._subplots.AxesSubplot at 0x7f1b396a16a0>"
            ]
          },
          "metadata": {
            "tags": []
          }
        },
        {
          "output_type": "display_data",
          "data": {
            "image/png": "[encoded data removed]",
            "text/plain": [
              "<Figure size 432x288 with 1 Axes>"
            ]
          },
          "metadata": {
            "tags": [],
            "needs_background": "light"
          }
        }
      ]
    },
    {
      "cell_type": "code",
      "metadata": {
        "id": "gkLRtUXvFldI",
        "colab_type": "code",
        "colab": {
          "base_uri": "https://localhost:8080/"
        },
        "outputId": "0dbbf33a-d90a-4812-d57c-d477c2465c12"
      },
      "source": [
        "# sparsity\n",
        "tmp = ratings_df.count()\n",
        "1-tmp/9724/610"
      ],
      "execution_count": null,
      "outputs": [
        {
          "output_type": "execute_result",
          "data": {
            "text/plain": [
              "0.9830003169443864"
            ]
          },
          "metadata": {
            "tags": []
          },
          "execution_count": 25
        }
      ]
    },
    {
      "cell_type": "markdown",
      "metadata": {
        "id": "-mBfWcaxw8X3",
        "colab_type": "text"
      },
      "source": [
        "# ALS model"
      ]
    },
    {
      "cell_type": "code",
      "metadata": {
        "id": "Xhmfwg3Uw65Q",
        "colab_type": "code",
        "colab": {
          "base_uri": "https://localhost:8080/",
          "height": 475
        },
        "outputId": "d2ea4ce0-4040-49fe-b581-fafdc00cfd6b"
      },
      "source": [
        "ratings_df.show()"
      ],
      "execution_count": null,
      "outputs": [
        {
          "output_type": "stream",
          "text": [
            "+------+-------+------+---------+\n",
            "|userId|movieId|rating|timestamp|\n",
            "+------+-------+------+---------+\n",
            "|     1|      1|   4.0|964982703|\n",
            "|     1|      3|   4.0|964981247|\n",
            "|     1|      6|   4.0|964982224|\n",
            "|     1|     47|   5.0|964983815|\n",
            "|     1|     50|   5.0|964982931|\n",
            "|     1|     70|   3.0|964982400|\n",
            "|     1|    101|   5.0|964980868|\n",
            "|     1|    110|   4.0|964982176|\n",
            "|     1|    151|   5.0|964984041|\n",
            "|     1|    157|   5.0|964984100|\n",
            "|     1|    163|   5.0|964983650|\n",
            "|     1|    216|   5.0|964981208|\n",
            "|     1|    223|   3.0|964980985|\n",
            "|     1|    231|   5.0|964981179|\n",
            "|     1|    235|   4.0|964980908|\n",
            "|     1|    260|   5.0|964981680|\n",
            "|     1|    296|   3.0|964982967|\n",
            "|     1|    316|   3.0|964982310|\n",
            "|     1|    333|   5.0|964981179|\n",
            "|     1|    349|   4.0|964982563|\n",
            "+------+-------+------+---------+\n",
            "only showing top 20 rows\n",
            "\n"
          ],
          "name": "stdout"
        }
      ]
    },
    {
      "cell_type": "code",
      "metadata": {
        "id": "I0NKW-nHxuaX",
        "colab_type": "code",
        "colab": {}
      },
      "source": [
        "ratings = ratings_df.drop('timestamp')"
      ],
      "execution_count": null,
      "outputs": []
    },
    {
      "cell_type": "code",
      "metadata": {
        "id": "QENA1IgpzPcT",
        "colab_type": "code",
        "colab": {}
      },
      "source": [
        "ratings = ratings.withColumn('userID', ratings['userID'].cast(IntegerType()))\\\n",
        ".withColumn('movieID',ratings['movieID'].cast(IntegerType()))\\\n",
        ".withColumn('rating', ratings['rating'].cast(FloatType()))\n"
      ],
      "execution_count": null,
      "outputs": []
    },
    {
      "cell_type": "code",
      "metadata": {
        "id": "96ULrzSm1HAK",
        "colab_type": "code",
        "colab": {
          "base_uri": "https://localhost:8080/",
          "height": 475
        },
        "outputId": "08403b15-929e-48d2-adb8-fb3b90b5ed0d"
      },
      "source": [
        "ratings.show()"
      ],
      "execution_count": null,
      "outputs": [
        {
          "output_type": "stream",
          "text": [
            "+------+-------+------+\n",
            "|userID|movieID|rating|\n",
            "+------+-------+------+\n",
            "|     1|      1|   4.0|\n",
            "|     1|      3|   4.0|\n",
            "|     1|      6|   4.0|\n",
            "|     1|     47|   5.0|\n",
            "|     1|     50|   5.0|\n",
            "|     1|     70|   3.0|\n",
            "|     1|    101|   5.0|\n",
            "|     1|    110|   4.0|\n",
            "|     1|    151|   5.0|\n",
            "|     1|    157|   5.0|\n",
            "|     1|    163|   5.0|\n",
            "|     1|    216|   5.0|\n",
            "|     1|    223|   3.0|\n",
            "|     1|    231|   5.0|\n",
            "|     1|    235|   4.0|\n",
            "|     1|    260|   5.0|\n",
            "|     1|    296|   3.0|\n",
            "|     1|    316|   3.0|\n",
            "|     1|    333|   5.0|\n",
            "|     1|    349|   4.0|\n",
            "+------+-------+------+\n",
            "only showing top 20 rows\n",
            "\n"
          ],
          "name": "stdout"
        }
      ]
    },
    {
      "cell_type": "code",
      "metadata": {
        "id": "lwhDkqSx3olA",
        "colab_type": "code",
        "colab": {}
      },
      "source": [
        "from pyspark.ml.evaluation import RegressionEvaluator\n",
        "from pyspark.ml.recommendation import ALS\n",
        "from pyspark.ml.tuning import CrossValidator, ParamGridBuilder\n"
      ],
      "execution_count": null,
      "outputs": []
    },
    {
      "cell_type": "code",
      "metadata": {
        "id": "9xnRIEPb1ITE",
        "colab_type": "code",
        "colab": {}
      },
      "source": [
        "(training, testing) = ratings.randomSplit([0.8,0.2])"
      ],
      "execution_count": null,
      "outputs": []
    },
    {
      "cell_type": "code",
      "metadata": {
        "id": "kQlKUHfk5vVk",
        "colab_type": "code",
        "colab": {}
      },
      "source": [
        "als = ALS(maxIter=5, rank=10, regParam=0.01, userCol='userID', itemCol='movieID',ratingCol='rating',\n",
        "          coldStartStrategy = 'drop')\n",
        "paramgrid = ParamGridBuilder().addGrid(als.maxIter,[5,10])\\\n",
        ".addGrid(als.rank, [2,5,10])\\\n",
        ".addGrid(als.regParam, [0.01, 0.1, 0.5]).build()\n",
        "rmse_evaluator = RegressionEvaluator(metricName='rmse', labelCol='rating',predictionCol='prediction')\n",
        "cv = CrossValidator(estimator=als, estimatorParamMaps=paramgrid,\n",
        "                    evaluator = rmse_evaluator,\n",
        "                    numFolds = 5, collectSubModels = True, seed=1)"
      ],
      "execution_count": null,
      "outputs": []
    },
    {
      "cell_type": "code",
      "metadata": {
        "id": "8HfDmM1P8IZ3",
        "colab_type": "code",
        "colab": {}
      },
      "source": [
        "#cmodel = cv.fit(training)"
      ],
      "execution_count": null,
      "outputs": []
    },
    {
      "cell_type": "code",
      "metadata": {
        "id": "lUN1pTdh6YXT",
        "colab_type": "code",
        "colab": {}
      },
      "source": [
        "'''\n",
        "best_model = cmodel.bestModel\n",
        "print(\"rank\",best_model.rank,\" ,maxiter\", best_model._java_obj.parent().getMaxIter(),\n",
        "      \" ,regparam\", best_model._java_obj.parent().getRegParam())\n",
        "\n",
        "bstrank = best_model.rank\n",
        "bstmaxiter = best_model._java_obj.parent().getMaxIter()\n",
        "bstregparam = best_model._java_obj.parent().getRegParam()\n",
        "'''\n",
        "bstrank = 2\n",
        "bstmaxiter = 5\n",
        "bstregparam = 0.1\n",
        "best_model = ALS(maxIter=bstmaxiter, rank=bstrank, regParam=bstregparam, userCol='userID', itemCol='movieID',ratingCol='rating',\n",
        "          coldStartStrategy = 'drop')\n",
        "best_model = best_model.fit(training)"
      ],
      "execution_count": null,
      "outputs": []
    },
    {
      "cell_type": "code",
      "metadata": {
        "id": "tav8Ki6U7D8b",
        "colab_type": "code",
        "colab": {
          "base_uri": "https://localhost:8080/",
          "height": 35
        },
        "outputId": "c2150497-f893-45a7-acf2-499b39d6372e"
      },
      "source": [
        "predictions = best_model.transform(testing)\n",
        "rmse = rmse_evaluator.evaluate(predictions)\n",
        "print('rmse=',rmse)"
      ],
      "execution_count": null,
      "outputs": [
        {
          "output_type": "stream",
          "text": [
            "rmse= 0.8771178201544589\n"
          ],
          "name": "stdout"
        }
      ]
    },
    {
      "cell_type": "code",
      "metadata": {
        "id": "GVr1LF0x_mfn",
        "colab_type": "code",
        "colab": {
          "base_uri": "https://localhost:8080/",
          "height": 35
        },
        "outputId": "93ab800c-5a72-443d-a7bc-bd7aff32328d"
      },
      "source": [
        "bst_als = ALS(maxIter=bstmaxiter, rank=bstrank, regParam=bstregparam, userCol='userID', itemCol='movieID',ratingCol='rating',\n",
        "          coldStartStrategy = 'drop')\n",
        "bstmdl = bst_als.fit(ratings)\n",
        "alldata = bstmdl.transform(ratings)\n",
        "rmse_all=rmse_evaluator.evaluate(alldata)\n",
        "print(rmse_all)"
      ],
      "execution_count": null,
      "outputs": [
        {
          "output_type": "stream",
          "text": [
            "0.7488083439280085\n"
          ],
          "name": "stdout"
        }
      ]
    },
    {
      "cell_type": "code",
      "metadata": {
        "id": "zDfm8ch_OVv6",
        "colab_type": "code",
        "colab": {
          "base_uri": "https://localhost:8080/",
          "height": 203
        },
        "outputId": "b066bcf8-8022-4412-e2b2-211537d4d2c1"
      },
      "source": [
        "alldata = alldata.withColumn('rounded_prediction', f.round(f.col('prediction')*2)/2)\n",
        "alldata_tmp = alldata.toPandas()\n",
        "alldata_tmp.head()"
      ],
      "execution_count": null,
      "outputs": [
        {
          "output_type": "execute_result",
          "data": {
            "text/html": [
              "<div>\n",
              "<style scoped>\n",
              "    .dataframe tbody tr th:only-of-type {\n",
              "        vertical-align: middle;\n",
              "    }\n",
              "\n",
              "    .dataframe tbody tr th {\n",
              "        vertical-align: top;\n",
              "    }\n",
              "\n",
              "    .dataframe thead th {\n",
              "        text-align: right;\n",
              "    }\n",
              "</style>\n",
              "<table border=\"1\" class=\"dataframe\">\n",
              "  <thead>\n",
              "    <tr style=\"text-align: right;\">\n",
              "      <th></th>\n",
              "      <th>userID</th>\n",
              "      <th>movieID</th>\n",
              "      <th>rating</th>\n",
              "      <th>prediction</th>\n",
              "      <th>rounded_prediction</th>\n",
              "    </tr>\n",
              "  </thead>\n",
              "  <tbody>\n",
              "    <tr>\n",
              "      <th>0</th>\n",
              "      <td>191</td>\n",
              "      <td>148</td>\n",
              "      <td>5.0</td>\n",
              "      <td>4.942147</td>\n",
              "      <td>5.0</td>\n",
              "    </tr>\n",
              "    <tr>\n",
              "      <th>1</th>\n",
              "      <td>133</td>\n",
              "      <td>471</td>\n",
              "      <td>4.0</td>\n",
              "      <td>2.842574</td>\n",
              "      <td>3.0</td>\n",
              "    </tr>\n",
              "    <tr>\n",
              "      <th>2</th>\n",
              "      <td>597</td>\n",
              "      <td>471</td>\n",
              "      <td>2.0</td>\n",
              "      <td>3.966779</td>\n",
              "      <td>4.0</td>\n",
              "    </tr>\n",
              "    <tr>\n",
              "      <th>3</th>\n",
              "      <td>385</td>\n",
              "      <td>471</td>\n",
              "      <td>4.0</td>\n",
              "      <td>3.306822</td>\n",
              "      <td>3.5</td>\n",
              "    </tr>\n",
              "    <tr>\n",
              "      <th>4</th>\n",
              "      <td>436</td>\n",
              "      <td>471</td>\n",
              "      <td>3.0</td>\n",
              "      <td>3.273357</td>\n",
              "      <td>3.5</td>\n",
              "    </tr>\n",
              "  </tbody>\n",
              "</table>\n",
              "</div>"
            ],
            "text/plain": [
              "   userID  movieID  rating  prediction  rounded_prediction\n",
              "0     191      148     5.0    4.942147                 5.0\n",
              "1     133      471     4.0    2.842574                 3.0\n",
              "2     597      471     2.0    3.966779                 4.0\n",
              "3     385      471     4.0    3.306822                 3.5\n",
              "4     436      471     3.0    3.273357                 3.5"
            ]
          },
          "metadata": {
            "tags": []
          },
          "execution_count": 37
        }
      ]
    },
    {
      "cell_type": "code",
      "metadata": {
        "id": "Tmx0mJxb7Yvt",
        "colab_type": "code",
        "colab": {}
      },
      "source": [
        "userRecs = bstmdl.recommendForAllUsers(10)\n",
        "movieRecs = bstmdl.recommendForAllItems(10)"
      ],
      "execution_count": null,
      "outputs": []
    },
    {
      "cell_type": "code",
      "metadata": {
        "id": "uBOLJsXy7qut",
        "colab_type": "code",
        "colab": {}
      },
      "source": [
        "alldata.registerTempTable('alldata')"
      ],
      "execution_count": null,
      "outputs": []
    },
    {
      "cell_type": "code",
      "metadata": {
        "id": "uyOz85qzPcP0",
        "colab_type": "code",
        "colab": {
          "base_uri": "https://localhost:8080/",
          "height": 475
        },
        "outputId": "f509100d-264f-4bff-ef9e-5adb2f0a0d38"
      },
      "source": [
        "alldata.join(movies_df, on=['movieID'], how='inner').show()"
      ],
      "execution_count": null,
      "outputs": [
        {
          "output_type": "stream",
          "text": [
            "+-------+------+------+----------+------------------+--------------------+------+\n",
            "|movieID|userID|rating|prediction|rounded_prediction|               title|genres|\n",
            "+-------+------+------+----------+------------------+--------------------+------+\n",
            "|    148|   191|   5.0| 4.9421473|               5.0|Awfully Big Adven...| Drama|\n",
            "|    471|   133|   4.0| 2.8425736|               3.0|Hudsucker Proxy, ...|Comedy|\n",
            "|    471|   597|   2.0| 3.9667785|               4.0|Hudsucker Proxy, ...|Comedy|\n",
            "|    471|   385|   4.0| 3.3068216|               3.5|Hudsucker Proxy, ...|Comedy|\n",
            "|    471|   436|   3.0|  3.273357|               3.5|Hudsucker Proxy, ...|Comedy|\n",
            "|    471|   602|   4.0|  3.296532|               3.5|Hudsucker Proxy, ...|Comedy|\n",
            "|    471|    91|   1.0| 3.3379266|               3.5|Hudsucker Proxy, ...|Comedy|\n",
            "|    471|   409|   3.0|  3.793216|               4.0|Hudsucker Proxy, ...|Comedy|\n",
            "|    471|   372|   3.0| 3.2154036|               3.0|Hudsucker Proxy, ...|Comedy|\n",
            "|    471|   599|   2.5| 2.7798648|               3.0|Hudsucker Proxy, ...|Comedy|\n",
            "|    471|   603|   4.0| 3.4656582|               3.5|Hudsucker Proxy, ...|Comedy|\n",
            "|    471|   182|   4.5|   3.59087|               3.5|Hudsucker Proxy, ...|Comedy|\n",
            "|    471|   218|   4.0| 3.3117805|               3.5|Hudsucker Proxy, ...|Comedy|\n",
            "|    471|   474|   3.0| 3.3432448|               3.5|Hudsucker Proxy, ...|Comedy|\n",
            "|    471|   500|   1.0| 3.1423326|               3.0|Hudsucker Proxy, ...|Comedy|\n",
            "|    471|    57|   3.0| 3.4383652|               3.5|Hudsucker Proxy, ...|Comedy|\n",
            "|    471|   462|   2.5| 3.1086736|               3.0|Hudsucker Proxy, ...|Comedy|\n",
            "|    471|   387|   3.0| 3.2600174|               3.5|Hudsucker Proxy, ...|Comedy|\n",
            "|    471|   610|   4.0| 3.7191517|               3.5|Hudsucker Proxy, ...|Comedy|\n",
            "|    471|   217|   2.0|  2.773525|               3.0|Hudsucker Proxy, ...|Comedy|\n",
            "+-------+------+------+----------+------------------+--------------------+------+\n",
            "only showing top 20 rows\n",
            "\n"
          ],
          "name": "stdout"
        }
      ]
    },
    {
      "cell_type": "markdown",
      "metadata": {
        "id": "0pDLKhUs-Sg8",
        "colab_type": "text"
      },
      "source": [
        "# recommend movies to user 575 and 232"
      ]
    },
    {
      "cell_type": "code",
      "metadata": {
        "id": "iHk5aJtmQNEz",
        "colab_type": "code",
        "colab": {
          "base_uri": "https://localhost:8080/",
          "height": 475
        },
        "outputId": "c576e737-2263-480a-8789-5019db3fc08a"
      },
      "source": [
        "users = [575,232]\n",
        "alldata[alldata['userID'].isin(users)].join(movies_df, on=['movieID'], how='inner').show()"
      ],
      "execution_count": null,
      "outputs": [
        {
          "output_type": "stream",
          "text": [
            "+-------+------+------+----------+------------------+--------------------+--------------------+\n",
            "|movieID|userID|rating|prediction|rounded_prediction|               title|              genres|\n",
            "+-------+------+------+----------+------------------+--------------------+--------------------+\n",
            "|   1580|   232|   3.5| 3.3425965|               3.5|Men in Black (a.k...|Action|Comedy|Sci-Fi|\n",
            "|   3175|   232|   2.5| 3.3835464|               3.5| Galaxy Quest (1999)|Adventure|Comedy|...|\n",
            "|  36525|   232|   3.0| 2.7616892|               3.0|Just Like Heaven ...|Comedy|Fantasy|Ro...|\n",
            "|  44022|   232|   3.0| 3.2170224|               3.0|Ice Age 2: The Me...|Adventure|Animati...|\n",
            "|  68135|   232|   4.0| 3.3538826|               3.5|     17 Again (2009)|        Comedy|Drama|\n",
            "|    858|   232|   4.0| 3.8568704|               4.0|Godfather, The (1...|         Crime|Drama|\n",
            "|   1721|   232|   4.5| 3.2847073|               3.5|      Titanic (1997)|       Drama|Romance|\n",
            "|   2580|   575|   4.0|  4.118822|               4.0|           Go (1999)|        Comedy|Crime|\n",
            "|  48780|   232|   4.5| 3.8065064|               4.0|Prestige, The (2006)|Drama|Mystery|Sci...|\n",
            "|  69481|   232|   4.5| 3.8222637|               4.0|Hurt Locker, The ...|Action|Drama|Thri...|\n",
            "|   1270|   232|   3.0| 3.8282652|               4.0|Back to the Futur...|Adventure|Comedy|...|\n",
            "|   2572|   575|   2.0| 3.4143674|               3.5|10 Things I Hate ...|      Comedy|Romance|\n",
            "|   6482|   232|   2.5| 1.9670084|               2.0|Dumb and Dumberer...|              Comedy|\n",
            "|  61250|   232|   2.5| 2.3819094|               2.5|House Bunny, The ...|              Comedy|\n",
            "|  82459|   232|   4.5| 3.7259688|               3.5|    True Grit (2010)|             Western|\n",
            "|   1265|   232|   4.0| 3.6916893|               3.5|Groundhog Day (1993)|Comedy|Fantasy|Ro...|\n",
            "|  33615|   232|   3.0| 3.2542446|               3.5|   Madagascar (2005)|Adventure|Animati...|\n",
            "|  51086|   232|   2.5| 2.7032297|               2.5|Number 23, The (2...|Drama|Mystery|Thr...|\n",
            "|   2096|   232|   2.5| 3.2856884|               3.5|Sleeping Beauty (...|Animation|Childre...|\n",
            "|   2622|   575|   5.0| 3.4664936|               3.5|William Shakespea...|      Comedy|Fantasy|\n",
            "+-------+------+------+----------+------------------+--------------------+--------------------+\n",
            "only showing top 20 rows\n",
            "\n"
          ],
          "name": "stdout"
        }
      ]
    },
    {
      "cell_type": "code",
      "metadata": {
        "id": "scTHYtnQSa09",
        "colab_type": "code",
        "colab": {}
      },
      "source": [
        ""
      ],
      "execution_count": null,
      "outputs": []
    },
    {
      "cell_type": "markdown",
      "metadata": {
        "id": "uwZgCfXO-YBA",
        "colab_type": "text"
      },
      "source": [
        "# similar movies for movie 463 and 471\n"
      ]
    },
    {
      "cell_type": "code",
      "metadata": {
        "id": "y-x4OJ1f-c0j",
        "colab_type": "code",
        "colab": {
          "base_uri": "https://localhost:8080/",
          "height": 475
        },
        "outputId": "49ba40c5-5523-4d68-a603-f95dbdcf0daa"
      },
      "source": [
        "tmp_compare = best_model.itemFactors\n",
        "movies = [463,471]\n",
        "compare = tmp_compare[tmp_compare['id'].isin(movies)].select('id','features').withColumnRenamed('id','id1').withColumnRenamed('features','f1')\\\n",
        ".crossJoin(tmp_compare.select('id','features').where('id!=471').withColumnRenamed('id','id2').withColumnRenamed('features','f2'))\n",
        "compare.show()"
      ],
      "execution_count": null,
      "outputs": [
        {
          "output_type": "stream",
          "text": [
            "+---+--------------------+---+--------------------+\n",
            "|id1|                  f1|id2|                  f2|\n",
            "+---+--------------------+---+--------------------+\n",
            "|471|[0.6199339, -1.89...| 10|[-0.078373104, -1...|\n",
            "|471|[0.6199339, -1.89...| 20|[-0.35833076, -1....|\n",
            "|471|[0.6199339, -1.89...| 30|[2.548732, -1.097...|\n",
            "|471|[0.6199339, -1.89...| 40|[1.5492972, -1.58...|\n",
            "|471|[0.6199339, -1.89...| 50|[0.33885282, -2.2...|\n",
            "|471|[0.6199339, -1.89...| 60|[-0.41266137, -1....|\n",
            "|471|[0.6199339, -1.89...| 70|[0.082179315, -1....|\n",
            "|471|[0.6199339, -1.89...| 80|[0.896915, -1.901...|\n",
            "|471|[0.6199339, -1.89...|100|[0.044483535, -1....|\n",
            "|471|[0.6199339, -1.89...|110|[0.008192444, -2....|\n",
            "|471|[0.6199339, -1.89...|140|[0.14285693, -1.6...|\n",
            "|471|[0.6199339, -1.89...|150|[0.115892924, -1....|\n",
            "|471|[0.6199339, -1.89...|160|[-0.7825554, -1.4...|\n",
            "|471|[0.6199339, -1.89...|170|[-0.19962782, -1....|\n",
            "|471|[0.6199339, -1.89...|180|[0.44158512, -1.8...|\n",
            "|471|[0.6199339, -1.89...|190|[1.4910133, -1.31...|\n",
            "|471|[0.6199339, -1.89...|210|[0.45955992, -1.4...|\n",
            "|471|[0.6199339, -1.89...|230|[0.25427365, -1.7...|\n",
            "|471|[0.6199339, -1.89...|240|[0.9062222, -1.04...|\n",
            "|471|[0.6199339, -1.89...|250|[-1.1011357, -1.4...|\n",
            "+---+--------------------+---+--------------------+\n",
            "only showing top 20 rows\n",
            "\n"
          ],
          "name": "stdout"
        }
      ]
    },
    {
      "cell_type": "code",
      "metadata": {
        "id": "77G2HSy4A1W6",
        "colab_type": "code",
        "colab": {}
      },
      "source": [
        "# cosin similarity \n",
        "def cos_sim(a,b):\n",
        "  return float(np.dot(a,b)/np.linalg.norm(a)*np.linalg.norm(b))\n",
        "cosine = spark.udf.register('cos_sim',cos_sim, FloatType())"
      ],
      "execution_count": null,
      "outputs": []
    },
    {
      "cell_type": "code",
      "metadata": {
        "id": "9U1gDuMBdPj6",
        "colab_type": "code",
        "colab": {
          "base_uri": "https://localhost:8080/",
          "height": 140
        },
        "outputId": "018fb555-f169-4b45-9c9f-28de3447b53c"
      },
      "source": [
        "movies_df[movies_df['movieID'].isin(movies)].select('title').show()"
      ],
      "execution_count": null,
      "outputs": [
        {
          "output_type": "stream",
          "text": [
            "[463, 471]\n",
            "+--------------------+\n",
            "|               title|\n",
            "+--------------------+\n",
            "|Hudsucker Proxy, ...|\n",
            "+--------------------+\n",
            "\n"
          ],
          "name": "stdout"
        }
      ]
    },
    {
      "cell_type": "code",
      "metadata": {
        "id": "6HTxQIVfIrjl",
        "colab_type": "code",
        "colab": {
          "base_uri": "https://localhost:8080/",
          "height": 211
        },
        "outputId": "3f278c02-8a13-4c17-8845-324a9f911384"
      },
      "source": [
        "# movie that similar to 471 Hudsucker Proxy, movie 463 does not exist\n",
        "result = compare.withColumn('similarity', cosine(f.col('f1'), f.col('f2')))\\\n",
        ".where('similarity > 10.0').orderBy('similarity', ascending=False)\n",
        "result = result.join(movies_df , movies_df['movieID'] == result['id2'], 'left').orderBy('similarity', ascending = False)\n",
        "result.show()"
      ],
      "execution_count": null,
      "outputs": [
        {
          "output_type": "stream",
          "text": [
            "+---+--------------------+-----+--------------------+----------+-------+--------------------+--------------------+\n",
            "|id1|                  f1|  id2|                  f2|similarity|movieId|               title|              genres|\n",
            "+---+--------------------+-----+--------------------+----------+-------+--------------------+--------------------+\n",
            "|471|[0.6199339, -1.89...| 5746|[0.9270549, -4.23...|  18.69305|   5746|Galaxy of Terror ...|Action|Horror|Mys...|\n",
            "|471|[0.6199339, -1.89...| 5764|[0.8343494, -3.81...| 15.141371|   5764|       Looker (1981)|Drama|Horror|Sci-...|\n",
            "|471|[0.6199339, -1.89...| 7899|[0.8343494, -3.81...| 15.141371|   7899|Master of the Fly...|              Action|\n",
            "|471|[0.6199339, -1.89...| 8477|[0.15843113, -3.8...| 14.453099|   8477|    Jetée, La (1962)|      Romance|Sci-Fi|\n",
            "|471|[0.6199339, -1.89...|40491|[0.15843113, -3.8...| 14.453099|  40491|Match Factory Gir...|        Comedy|Drama|\n",
            "|471|[0.6199339, -1.89...|70946|[3.7429311, -1.85...| 12.209805|  70946|      Troll 2 (1990)|      Fantasy|Horror|\n",
            "+---+--------------------+-----+--------------------+----------+-------+--------------------+--------------------+\n",
            "\n"
          ],
          "name": "stdout"
        }
      ]
    },
    {
      "cell_type": "code",
      "metadata": {
        "id": "sifMPqdDcYdQ",
        "colab_type": "code",
        "colab": {}
      },
      "source": [
        ""
      ],
      "execution_count": null,
      "outputs": []
    }
  ]
}
