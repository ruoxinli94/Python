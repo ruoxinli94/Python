{
  "nbformat": 4,
  "nbformat_minor": 0,
  "metadata": {
    "colab": {
      "name": "PrimeVedioRating.ipynb",
      "provenance": [],
      "collapsed_sections": [],
      "authorship_tag": "ABX9TyOIufjntUvotCIX5Zw+c0lM",
      "include_colab_link": true
    },
    "kernelspec": {
      "name": "python3",
      "display_name": "Python 3"
    }
  },
  "cells": [
    {
      "cell_type": "markdown",
      "metadata": {
        "id": "view-in-github",
        "colab_type": "text"
      },
      "source": [
        "<a href=\"https://colab.research.google.com/github/ruoxinli94/Python/blob/master/PrimeVedioRating.ipynb\" target=\"_parent\"><img src=\"https://colab.research.google.com/assets/colab-badge.svg\" alt=\"Open In Colab\"/></a>"
      ]
    },
    {
      "cell_type": "code",
      "metadata": {
        "id": "f6RF0KZS018h",
        "colab_type": "code",
        "colab": {
          "base_uri": "https://localhost:8080/",
          "height": 72
        },
        "outputId": "e17a11bd-cce6-4cea-e833-3afc24b2cf9e"
      },
      "source": [
        "import numpy as np\n",
        "import pandas as pd\n",
        "import sklearn as sl\n",
        "import sklearn.preprocessing as preprocessing\n",
        "from sklearn.model_selection import train_test_split\n",
        "import seaborn as sns\n",
        "import matplotlib.pyplot as plt\n",
        "pd.set_option('display.float_format', lambda x: '%.3f' % x)\n",
        "pd.set_option('display.max_columns', None)\n",
        "pd.set_option('display.max_rows', None)\n",
        "pd.set_option('max_colwidth', 100)"
      ],
      "execution_count": 1,
      "outputs": [
        {
          "output_type": "stream",
          "text": [
            "/usr/local/lib/python3.6/dist-packages/statsmodels/tools/_testing.py:19: FutureWarning: pandas.util.testing is deprecated. Use the functions in the public API at pandas.testing instead.\n",
            "  import pandas.util.testing as tm\n"
          ],
          "name": "stderr"
        }
      ]
    },
    {
      "cell_type": "code",
      "metadata": {
        "id": "bFUQ6_lH2mx_",
        "colab_type": "code",
        "colab": {
          "resources": {
            "http://localhost:8080/nbextensions/google.colab/files.js": {
              "data": "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",
              "ok": true,
              "headers": [
                [
                  "content-type",
                  "application/javascript"
                ]
              ],
              "status": 200,
              "status_text": ""
            }
          },
          "base_uri": "https://localhost:8080/",
          "height": 73
        },
        "outputId": "e435a90e-6b29-401d-b42f-3a775b1c7db8"
      },
      "source": [
        "from google.colab import files\n",
        "upload = files.upload()"
      ],
      "execution_count": 2,
      "outputs": [
        {
          "output_type": "display_data",
          "data": {
            "text/html": [
              "\n",
              "     <input type=\"file\" id=\"files-886615ab-b1da-4b24-a48b-90f629694f47\" name=\"files[]\" multiple disabled\n",
              "        style=\"border:none\" />\n",
              "     <output id=\"result-886615ab-b1da-4b24-a48b-90f629694f47\">\n",
              "      Upload widget is only available when the cell has been executed in the\n",
              "      current browser session. Please rerun this cell to enable.\n",
              "      </output>\n",
              "      <script src=\"/nbextensions/google.colab/files.js\"></script> "
            ],
            "text/plain": [
              "<IPython.core.display.HTML object>"
            ]
          },
          "metadata": {
            "tags": []
          }
        },
        {
          "output_type": "stream",
          "text": [
            "Saving TVdata.txt to TVdata.txt\n"
          ],
          "name": "stdout"
        }
      ]
    },
    {
      "cell_type": "code",
      "metadata": {
        "id": "ruo_BmUC2tK1",
        "colab_type": "code",
        "colab": {
          "base_uri": "https://localhost:8080/",
          "height": 291
        },
        "outputId": "e8edc3b6-c325-48b5-a454-1833586ce02c"
      },
      "source": [
        "TV = pd.read_table('TVdata.txt', header=0, sep=',', lineterminator='\\n')\n",
        "TV.head()"
      ],
      "execution_count": 3,
      "outputs": [
        {
          "output_type": "execute_result",
          "data": {
            "text/html": [
              "<div>\n",
              "<style scoped>\n",
              "    .dataframe tbody tr th:only-of-type {\n",
              "        vertical-align: middle;\n",
              "    }\n",
              "\n",
              "    .dataframe tbody tr th {\n",
              "        vertical-align: top;\n",
              "    }\n",
              "\n",
              "    .dataframe thead th {\n",
              "        text-align: right;\n",
              "    }\n",
              "</style>\n",
              "<table border=\"1\" class=\"dataframe\">\n",
              "  <thead>\n",
              "    <tr style=\"text-align: right;\">\n",
              "      <th></th>\n",
              "      <th>video_id</th>\n",
              "      <th>cvt_per_day</th>\n",
              "      <th>weighted_categorical_position</th>\n",
              "      <th>weighted_horizontal_poition</th>\n",
              "      <th>import_id</th>\n",
              "      <th>release_year</th>\n",
              "      <th>genres</th>\n",
              "      <th>imdb_votes</th>\n",
              "      <th>budget</th>\n",
              "      <th>boxoffice</th>\n",
              "      <th>imdb_rating</th>\n",
              "      <th>duration_in_mins</th>\n",
              "      <th>metacritic_score</th>\n",
              "      <th>awards</th>\n",
              "      <th>mpaa</th>\n",
              "      <th>star_category</th>\n",
              "    </tr>\n",
              "  </thead>\n",
              "  <tbody>\n",
              "    <tr>\n",
              "      <th>0</th>\n",
              "      <td>385504</td>\n",
              "      <td>307127.606</td>\n",
              "      <td>1</td>\n",
              "      <td>3</td>\n",
              "      <td>lionsgate</td>\n",
              "      <td>2013</td>\n",
              "      <td>Action,Thriller,Drama</td>\n",
              "      <td>69614</td>\n",
              "      <td>15000000</td>\n",
              "      <td>42930462</td>\n",
              "      <td>6.500</td>\n",
              "      <td>112.301</td>\n",
              "      <td>51</td>\n",
              "      <td>other award</td>\n",
              "      <td>PG-13</td>\n",
              "      <td>1.710</td>\n",
              "    </tr>\n",
              "    <tr>\n",
              "      <th>1</th>\n",
              "      <td>300175</td>\n",
              "      <td>270338.426</td>\n",
              "      <td>1</td>\n",
              "      <td>3</td>\n",
              "      <td>lionsgate</td>\n",
              "      <td>2013</td>\n",
              "      <td>Comedy,Crime,Thriller</td>\n",
              "      <td>46705</td>\n",
              "      <td>15000000</td>\n",
              "      <td>3301046</td>\n",
              "      <td>6.500</td>\n",
              "      <td>94.983</td>\n",
              "      <td>41</td>\n",
              "      <td>no award</td>\n",
              "      <td>R</td>\n",
              "      <td>3.250</td>\n",
              "    </tr>\n",
              "    <tr>\n",
              "      <th>2</th>\n",
              "      <td>361899</td>\n",
              "      <td>256165.867</td>\n",
              "      <td>1</td>\n",
              "      <td>3</td>\n",
              "      <td>other</td>\n",
              "      <td>2012</td>\n",
              "      <td>Crime,Drama</td>\n",
              "      <td>197596</td>\n",
              "      <td>26000000</td>\n",
              "      <td>37397291</td>\n",
              "      <td>7.300</td>\n",
              "      <td>115.764</td>\n",
              "      <td>58</td>\n",
              "      <td>other award</td>\n",
              "      <td>R</td>\n",
              "      <td>2.647</td>\n",
              "    </tr>\n",
              "    <tr>\n",
              "      <th>3</th>\n",
              "      <td>308314</td>\n",
              "      <td>196622.721</td>\n",
              "      <td>3</td>\n",
              "      <td>4</td>\n",
              "      <td>lionsgate</td>\n",
              "      <td>2008</td>\n",
              "      <td>Thriller,Drama,War,Documentary,Mystery,Action</td>\n",
              "      <td>356339</td>\n",
              "      <td>15000000</td>\n",
              "      <td>15700000</td>\n",
              "      <td>7.600</td>\n",
              "      <td>130.704</td>\n",
              "      <td>94</td>\n",
              "      <td>Oscar</td>\n",
              "      <td>R</td>\n",
              "      <td>1.667</td>\n",
              "    </tr>\n",
              "    <tr>\n",
              "      <th>4</th>\n",
              "      <td>307201</td>\n",
              "      <td>159841.652</td>\n",
              "      <td>1</td>\n",
              "      <td>3</td>\n",
              "      <td>lionsgate</td>\n",
              "      <td>2013</td>\n",
              "      <td>Crime,Thriller,Mystery,Documentary</td>\n",
              "      <td>46720</td>\n",
              "      <td>27220000</td>\n",
              "      <td>8551228</td>\n",
              "      <td>6.400</td>\n",
              "      <td>105.546</td>\n",
              "      <td>37</td>\n",
              "      <td>other award</td>\n",
              "      <td>R</td>\n",
              "      <td>3.067</td>\n",
              "    </tr>\n",
              "  </tbody>\n",
              "</table>\n",
              "</div>"
            ],
            "text/plain": [
              "   video_id  cvt_per_day  weighted_categorical_position  \\\n",
              "0    385504   307127.606                              1   \n",
              "1    300175   270338.426                              1   \n",
              "2    361899   256165.867                              1   \n",
              "3    308314   196622.721                              3   \n",
              "4    307201   159841.652                              1   \n",
              "\n",
              "   weighted_horizontal_poition  import_id  release_year  \\\n",
              "0                            3  lionsgate          2013   \n",
              "1                            3  lionsgate          2013   \n",
              "2                            3      other          2012   \n",
              "3                            4  lionsgate          2008   \n",
              "4                            3  lionsgate          2013   \n",
              "\n",
              "                                          genres  imdb_votes    budget  \\\n",
              "0                          Action,Thriller,Drama       69614  15000000   \n",
              "1                          Comedy,Crime,Thriller       46705  15000000   \n",
              "2                                    Crime,Drama      197596  26000000   \n",
              "3  Thriller,Drama,War,Documentary,Mystery,Action      356339  15000000   \n",
              "4             Crime,Thriller,Mystery,Documentary       46720  27220000   \n",
              "\n",
              "   boxoffice  imdb_rating  duration_in_mins  metacritic_score       awards  \\\n",
              "0   42930462        6.500           112.301                51  other award   \n",
              "1    3301046        6.500            94.983                41     no award   \n",
              "2   37397291        7.300           115.764                58  other award   \n",
              "3   15700000        7.600           130.704                94        Oscar   \n",
              "4    8551228        6.400           105.546                37  other award   \n",
              "\n",
              "    mpaa  star_category  \n",
              "0  PG-13          1.710  \n",
              "1      R          3.250  \n",
              "2      R          2.647  \n",
              "3      R          1.667  \n",
              "4      R          3.067  "
            ]
          },
          "metadata": {
            "tags": []
          },
          "execution_count": 3
        }
      ]
    },
    {
      "cell_type": "markdown",
      "metadata": {
        "id": "boz0SgL53QvY",
        "colab_type": "text"
      },
      "source": [
        "## Data Cleaning\n",
        "- duplicated records\n",
        "- missing data"
      ]
    },
    {
      "cell_type": "code",
      "metadata": {
        "id": "Uw5QsoE83Tx3",
        "colab_type": "code",
        "colab": {
          "base_uri": "https://localhost:8080/",
          "height": 351
        },
        "outputId": "750e98e9-139b-45a1-d81f-694515bb8edc"
      },
      "source": [
        "print('The number of duplicated video id:', TV['video_id'].duplicated().sum(),'\\n',\n",
        "      'The number of missing values:', '\\n', TV.isnull().sum())"
      ],
      "execution_count": 4,
      "outputs": [
        {
          "output_type": "stream",
          "text": [
            "The number of duplicated video id: 0 \n",
            " The number of missing values: \n",
            " video_id                         0\n",
            "cvt_per_day                      0\n",
            "weighted_categorical_position    0\n",
            "weighted_horizontal_poition      0\n",
            "import_id                        0\n",
            "release_year                     0\n",
            "genres                           0\n",
            "imdb_votes                       0\n",
            "budget                           0\n",
            "boxoffice                        0\n",
            "imdb_rating                      0\n",
            "duration_in_mins                 0\n",
            "metacritic_score                 0\n",
            "awards                           0\n",
            "mpaa                             0\n",
            "star_category                    0\n",
            "dtype: int64\n"
          ],
          "name": "stdout"
        }
      ]
    },
    {
      "cell_type": "markdown",
      "metadata": {
        "id": "veei_Rwx4QdR",
        "colab_type": "text"
      },
      "source": [
        "## EDA\n",
        "- Numerical features\n",
        "- Categorical features"
      ]
    },
    {
      "cell_type": "code",
      "metadata": {
        "id": "GV3aHrld3jx4",
        "colab_type": "code",
        "colab": {
          "base_uri": "https://localhost:8080/",
          "height": 1000
        },
        "outputId": "7648851e-493b-4821-c254-85ea50278ddd"
      },
      "source": [
        "TV.info()\n",
        "print(TV.drop(columns=['video_id','release_year'], axis=1).describe(percentiles=[0.1,0.25,0.5,0.75,0.95]))\n",
        "(TV==0).sum(axis=0)/TV.shape[0]"
      ],
      "execution_count": 5,
      "outputs": [
        {
          "output_type": "stream",
          "text": [
            "<class 'pandas.core.frame.DataFrame'>\n",
            "RangeIndex: 4226 entries, 0 to 4225\n",
            "Data columns (total 16 columns):\n",
            " #   Column                         Non-Null Count  Dtype  \n",
            "---  ------                         --------------  -----  \n",
            " 0   video_id                       4226 non-null   int64  \n",
            " 1   cvt_per_day                    4226 non-null   float64\n",
            " 2   weighted_categorical_position  4226 non-null   int64  \n",
            " 3   weighted_horizontal_poition    4226 non-null   int64  \n",
            " 4   import_id                      4226 non-null   object \n",
            " 5   release_year                   4226 non-null   int64  \n",
            " 6   genres                         4226 non-null   object \n",
            " 7   imdb_votes                     4226 non-null   int64  \n",
            " 8   budget                         4226 non-null   int64  \n",
            " 9   boxoffice                      4226 non-null   int64  \n",
            " 10  imdb_rating                    4226 non-null   float64\n",
            " 11  duration_in_mins               4226 non-null   float64\n",
            " 12  metacritic_score               4226 non-null   int64  \n",
            " 13  awards                         4226 non-null   object \n",
            " 14  mpaa                           4226 non-null   object \n",
            " 15  star_category                  4226 non-null   float64\n",
            "dtypes: float64(4), int64(8), object(4)\n",
            "memory usage: 528.4+ KB\n",
            "       cvt_per_day  weighted_categorical_position  \\\n",
            "count     4226.000                       4226.000   \n",
            "mean      4218.630                          7.783   \n",
            "std      13036.080                          6.134   \n",
            "min          2.188                          1.000   \n",
            "10%        141.985                          3.000   \n",
            "25%        351.169                          4.000   \n",
            "50%       1193.500                          6.000   \n",
            "75%       3356.789                          9.000   \n",
            "95%      14692.834                         22.000   \n",
            "max     307127.606                         41.000   \n",
            "\n",
            "       weighted_horizontal_poition  imdb_votes        budget     boxoffice  \\\n",
            "count                     4226.000    4226.000      4226.000      4226.000   \n",
            "mean                        28.104    6462.924   2150743.439   2536338.472   \n",
            "std                         11.864   31596.007   7176604.483   8243516.266   \n",
            "min                          1.000       0.000         0.000         0.000   \n",
            "10%                         13.000       8.000         0.000         0.000   \n",
            "25%                         20.000      81.000         0.000         0.000   \n",
            "50%                         28.000     535.000         0.000         0.000   \n",
            "75%                         36.000    3053.000   1500000.000         0.000   \n",
            "95%                         48.000   26199.500  12000000.000   8551228.000   \n",
            "max                         70.000  948630.000 107000000.000 184208848.000   \n",
            "\n",
            "       imdb_rating  duration_in_mins  metacritic_score  star_category  \n",
            "count     4226.000          4226.000          4226.000       4226.000  \n",
            "mean         5.257            89.556            15.974          0.955  \n",
            "std          2.123            21.086            26.205          0.955  \n",
            "min          0.000             4.037             0.000          0.000  \n",
            "10%          2.300            62.391             0.000          0.000  \n",
            "25%          4.300            82.602             0.000          0.000  \n",
            "50%          5.800            90.730             0.000          1.000  \n",
            "75%          6.800            99.500            41.000          1.667  \n",
            "95%          7.800           119.131            65.000          2.597  \n",
            "max         10.000           246.017           100.000          4.000  \n"
          ],
          "name": "stdout"
        },
        {
          "output_type": "execute_result",
          "data": {
            "text/plain": [
              "video_id                        0.000\n",
              "cvt_per_day                     0.000\n",
              "weighted_categorical_position   0.000\n",
              "weighted_horizontal_poition     0.000\n",
              "import_id                       0.000\n",
              "release_year                    0.000\n",
              "genres                          0.000\n",
              "imdb_votes                      0.081\n",
              "budget                          0.581\n",
              "boxoffice                       0.756\n",
              "imdb_rating                     0.081\n",
              "duration_in_mins                0.000\n",
              "metacritic_score                0.713\n",
              "awards                          0.000\n",
              "mpaa                            0.000\n",
              "star_category                   0.437\n",
              "dtype: float64"
            ]
          },
          "metadata": {
            "tags": []
          },
          "execution_count": 5
        }
      ]
    },
    {
      "cell_type": "code",
      "metadata": {
        "id": "iRlMYl06BAAz",
        "colab_type": "code",
        "colab": {
          "base_uri": "https://localhost:8080/",
          "height": 296
        },
        "outputId": "6b122374-4c63-4465-e1e7-a29ee64d31e6"
      },
      "source": [
        "plt.hist(TV['cvt_per_day'],bins=range(0,15000,30),color='r',label='cvt_per_day',density=True,alpha=0.5)\n",
        "plt.title('Historgrams of cvt_per_day before data processing')\n",
        "plt.legend(loc='upper right')\n",
        "plt.xlabel('cvt_per_day')\n",
        "plt.ylabel('density')\n",
        "plt.show()"
      ],
      "execution_count": 6,
      "outputs": [
        {
          "output_type": "display_data",
          "data": {
            "image/png": "[encoded data removed]",
            "text/plain": [
              "<Figure size 432x288 with 1 Axes>"
            ]
          },
          "metadata": {
            "tags": [],
            "needs_background": "light"
          }
        }
      ]
    },
    {
      "cell_type": "code",
      "metadata": {
        "id": "oS_o1ZZ1bE9H",
        "colab_type": "code",
        "colab": {
          "base_uri": "https://localhost:8080/",
          "height": 429
        },
        "outputId": "6235a614-3312-47d6-cd9f-c83322015700"
      },
      "source": [
        "corr = TV[['cvt_per_day','weighted_categorical_position','weighted_horizontal_poition'\n",
        "               ,'release_year', 'imdb_votes', 'budget', 'boxoffice' ,'imdb_rating', \n",
        "               'duration_in_mins', 'metacritic_score', 'star_category']].corr()\n",
        "\n",
        "sns.heatmap(corr, cmap=\"YlGnBu\")"
      ],
      "execution_count": 7,
      "outputs": [
        {
          "output_type": "execute_result",
          "data": {
            "text/plain": [
              "<matplotlib.axes._subplots.AxesSubplot at 0x7f7b8fb38588>"
            ]
          },
          "metadata": {
            "tags": []
          },
          "execution_count": 7
        },
        {
          "output_type": "display_data",
          "data": {
            "image/png": "[encoded data removed]",
            "text/plain": [
              "<Figure size 432x288 with 2 Axes>"
            ]
          },
          "metadata": {
            "tags": [],
            "needs_background": "light"
          }
        }
      ]
    },
    {
      "cell_type": "code",
      "metadata": {
        "id": "0tnQQLDfbGOY",
        "colab_type": "code",
        "colab": {
          "base_uri": "https://localhost:8080/",
          "height": 1000
        },
        "outputId": "1c512711-52a2-4a35-a217-d51a40fff52d"
      },
      "source": [
        "sns.violinplot(x='import_id', y='cvt_per_day', data=TV,jitter=True)\n",
        "plt.show()\n",
        "print(TV['import_id'].value_counts())\n",
        "\n",
        "sns.violinplot(x='mpaa', y='cvt_per_day', data=TV,jitter=True)\n",
        "plt.show()\n",
        "print(TV['mpaa'].value_counts())\n",
        "\n",
        "sns.violinplot(x='awards', y='cvt_per_day', data=TV, jitter=True)\n",
        "plt.show()\n",
        "print(TV['awards'].value_counts())"
      ],
      "execution_count": 8,
      "outputs": [
        {
          "output_type": "display_data",
          "data": {
            "image/png": "[encoded data removed]",
            "text/plain": [
              "<Figure size 432x288 with 1 Axes>"
            ]
          },
          "metadata": {
            "tags": [],
            "needs_background": "light"
          }
        },
        {
          "output_type": "stream",
          "text": [
            "other        2963\n",
            "lionsgate     677\n",
            "mgm           445\n",
            "paramount     141\n",
            "Name: import_id, dtype: int64\n"
          ],
          "name": "stdout"
        },
        {
          "output_type": "display_data",
          "data": {
            "image/png": "[encoded data removed]",
            "text/plain": [
              "<Figure size 432x288 with 1 Axes>"
            ]
          },
          "metadata": {
            "tags": [],
            "needs_background": "light"
          }
        },
        {
          "output_type": "stream",
          "text": [
            "NotRated    2158\n",
            "R           1158\n",
            "PG-13        426\n",
            "PG           353\n",
            "G            125\n",
            "NC-17          6\n",
            "Name: mpaa, dtype: int64\n"
          ],
          "name": "stdout"
        },
        {
          "output_type": "display_data",
          "data": {
            "image/png": "[encoded data removed]",
            "text/plain": [
              "<Figure size 432x288 with 1 Axes>"
            ]
          },
          "metadata": {
            "tags": [],
            "needs_background": "light"
          }
        },
        {
          "output_type": "stream",
          "text": [
            "no award        2569\n",
            "other award     1453\n",
            "Oscar            141\n",
            "Golden Globe      44\n",
            "BAFTA             19\n",
            "Name: awards, dtype: int64\n"
          ],
          "name": "stdout"
        }
      ]
    },
    {
      "cell_type": "code",
      "metadata": {
        "id": "FlaDZtd7bKlw",
        "colab_type": "code",
        "colab": {
          "base_uri": "https://localhost:8080/",
          "height": 990
        },
        "outputId": "f202644c-6245-4cd5-db01-bae775a5862b"
      },
      "source": [
        "# split genres \n",
        "print(TV['genres'].head())\n",
        "gen_split = TV['genres'].str.get_dummies(sep=',').sum()\n",
        "print(gen_split)\n",
        "plt.figure(figsize=(8,6))\n",
        "gen_split.sort_values(ascending=True).plot.barh()"
      ],
      "execution_count": 9,
      "outputs": [
        {
          "output_type": "stream",
          "text": [
            "0                            Action,Thriller,Drama\n",
            "1                            Comedy,Crime,Thriller\n",
            "2                                      Crime,Drama\n",
            "3    Thriller,Drama,War,Documentary,Mystery,Action\n",
            "4               Crime,Thriller,Mystery,Documentary\n",
            "Name: genres, dtype: object\n",
            "Action                    739\n",
            "Adult                       3\n",
            "Adventure                 363\n",
            "Animation                 129\n",
            "Anime                      11\n",
            "Comedy                   1184\n",
            "Crime                     437\n",
            "Documentary               671\n",
            "Drama                    1677\n",
            "Fantasy                   243\n",
            "Foreign/International      64\n",
            "Holiday                     1\n",
            "Horror                    762\n",
            "Independent               393\n",
            "Kids & Family             280\n",
            "LGBT                        2\n",
            "Lifestyle                   7\n",
            "Music                     171\n",
            "Musicals                   68\n",
            "Mystery                   375\n",
            "Reality                     9\n",
            "Romance                   591\n",
            "Sci-Fi                    363\n",
            "Sport                      77\n",
            "Thriller                  879\n",
            "War                       102\n",
            "Western                   102\n",
            "dtype: int64\n"
          ],
          "name": "stdout"
        },
        {
          "output_type": "execute_result",
          "data": {
            "text/plain": [
              "<matplotlib.axes._subplots.AxesSubplot at 0x7f7b8c562c88>"
            ]
          },
          "metadata": {
            "tags": []
          },
          "execution_count": 9
        },
        {
          "output_type": "display_data",
          "data": {
            "image/png": "[encoded data removed]",
            "text/plain": [
              "<Figure size 576x432 with 1 Axes>"
            ]
          },
          "metadata": {
            "tags": [],
            "needs_background": "light"
          }
        }
      ]
    },
    {
      "cell_type": "code",
      "metadata": {
        "id": "tLWl-mQcgTWd",
        "colab_type": "code",
        "colab": {
          "base_uri": "https://localhost:8080/",
          "height": 296
        },
        "outputId": "169c5123-60e5-47c6-c6d7-77dc8d399a33"
      },
      "source": [
        "plt.hist(TV['release_year'].values, bins = range(1910, 2017, 1), alpha = 0.5, color='r', label = 'release_year')\n",
        "plt.legend(loc ='upper left')\n",
        "plt.title('Historgrams of release_year before data processing')\n",
        "plt.xlabel('release_year')\n",
        "plt.ylabel('Count')\n",
        "plt.show()\n"
      ],
      "execution_count": 10,
      "outputs": [
        {
          "output_type": "display_data",
          "data": {
            "image/png": "[encoded data removed]",
            "text/plain": [
              "<Figure size 432x288 with 1 Axes>"
            ]
          },
          "metadata": {
            "tags": [],
            "needs_background": "light"
          }
        }
      ]
    },
    {
      "cell_type": "markdown",
      "metadata": {
        "id": "mMerH63tg2TD",
        "colab_type": "text"
      },
      "source": [
        "## Feature Preprocessing\n",
        "- categorical features\n",
        "- missing data\n",
        "- feature scaling"
      ]
    },
    {
      "cell_type": "code",
      "metadata": {
        "id": "nDQ8B2xNgyfp",
        "colab_type": "code",
        "colab": {}
      },
      "source": [
        "# get dummies\n",
        "d_import_id = pd.get_dummies(TV['import_id']).astype(np.int64)\n",
        "d_mpaa = pd.get_dummies(TV['mpaa']).astype(np.int64)\n",
        "d_awards = pd.get_dummies(TV['awards']).astype(np.int64)"
      ],
      "execution_count": 11,
      "outputs": []
    },
    {
      "cell_type": "code",
      "metadata": {
        "id": "Qx6DMhL2xmmL",
        "colab_type": "code",
        "colab": {}
      },
      "source": [
        "d_genres = TV['genres'].str.get_dummies(sep=',').astype(np.int64)\n",
        "d_genres['Misc_genres']=d_genres['Anime']|d_genres['Reality']|d_genres['Lifestyle']|d_genres['Adult']|d_genres['LGBT']|d_genres['Holiday']\n",
        "d_genres.drop(['Anime', 'Reality','Lifestyle', 'Adult','LGBT','Holiday'], inplace=True, axis=1)"
      ],
      "execution_count": 12,
      "outputs": []
    },
    {
      "cell_type": "code",
      "metadata": {
        "id": "APWvw09wzMvL",
        "colab_type": "code",
        "colab": {
          "base_uri": "https://localhost:8080/",
          "height": 193
        },
        "outputId": "03222d45-4d6d-4a3c-854c-2ea0776b49a8"
      },
      "source": [
        "arr = np.linspace(0.1,0.9,9)\n",
        "TV['release_year'].quantile(arr)"
      ],
      "execution_count": 13,
      "outputs": [
        {
          "output_type": "execute_result",
          "data": {
            "text/plain": [
              "0.100   1974.000\n",
              "0.200   1991.000\n",
              "0.300   2001.000\n",
              "0.400   2006.000\n",
              "0.500   2008.000\n",
              "0.600   2010.000\n",
              "0.700   2012.000\n",
              "0.800   2013.000\n",
              "0.900   2014.000\n",
              "Name: release_year, dtype: float64"
            ]
          },
          "metadata": {
            "tags": []
          },
          "execution_count": 13
        }
      ]
    },
    {
      "cell_type": "code",
      "metadata": {
        "id": "WrdFSuIOzORw",
        "colab_type": "code",
        "colab": {}
      },
      "source": [
        "# bin release_year and convert into dummies\n",
        "bin_year = [1916, 1974, 1991, 2001, 2006, 2008, 2010, 2012, 2013, 2014, 2017]\n",
        "year_range = ['1916-1974', '1974-1991', '1991-2001', '2001-2006','2006-2008','2008-2010','2010-2012','2012-2013',\n",
        "              '2013-2014','2014-2017']\n",
        "year_bin=pd.cut(TV['release_year'], bin_year, labels = year_range)"
      ],
      "execution_count": 14,
      "outputs": []
    },
    {
      "cell_type": "code",
      "metadata": {
        "id": "xGv_8pQFPHF6",
        "colab_type": "code",
        "colab": {}
      },
      "source": [
        "d_year = pd.get_dummies(year_bin).astype(np.int64)"
      ],
      "execution_count": 15,
      "outputs": []
    },
    {
      "cell_type": "code",
      "metadata": {
        "id": "IrLqhJG-OjOQ",
        "colab_type": "code",
        "colab": {
          "base_uri": "https://localhost:8080/",
          "height": 240
        },
        "outputId": "45e86cb4-8733-4348-cbd3-8bd16187b999"
      },
      "source": [
        "# drop old categorical features, append dummy variables\n",
        "temp_tv=TV.drop(['import_id', 'mpaa','awards','genres', 'release_year'], axis=1)\n",
        "newTV = pd.concat([temp_tv,d_import_id, d_mpaa,d_awards,d_genres, d_year], axis=1)\n",
        "newTV.head()"
      ],
      "execution_count": 16,
      "outputs": [
        {
          "output_type": "execute_result",
          "data": {
            "text/html": [
              "<div>\n",
              "<style scoped>\n",
              "    .dataframe tbody tr th:only-of-type {\n",
              "        vertical-align: middle;\n",
              "    }\n",
              "\n",
              "    .dataframe tbody tr th {\n",
              "        vertical-align: top;\n",
              "    }\n",
              "\n",
              "    .dataframe thead th {\n",
              "        text-align: right;\n",
              "    }\n",
              "</style>\n",
              "<table border=\"1\" class=\"dataframe\">\n",
              "  <thead>\n",
              "    <tr style=\"text-align: right;\">\n",
              "      <th></th>\n",
              "      <th>video_id</th>\n",
              "      <th>cvt_per_day</th>\n",
              "      <th>weighted_categorical_position</th>\n",
              "      <th>weighted_horizontal_poition</th>\n",
              "      <th>imdb_votes</th>\n",
              "      <th>budget</th>\n",
              "      <th>boxoffice</th>\n",
              "      <th>imdb_rating</th>\n",
              "      <th>duration_in_mins</th>\n",
              "      <th>metacritic_score</th>\n",
              "      <th>star_category</th>\n",
              "      <th>lionsgate</th>\n",
              "      <th>mgm</th>\n",
              "      <th>other</th>\n",
              "      <th>paramount</th>\n",
              "      <th>G</th>\n",
              "      <th>NC-17</th>\n",
              "      <th>NotRated</th>\n",
              "      <th>PG</th>\n",
              "      <th>PG-13</th>\n",
              "      <th>R</th>\n",
              "      <th>BAFTA</th>\n",
              "      <th>Golden Globe</th>\n",
              "      <th>Oscar</th>\n",
              "      <th>no award</th>\n",
              "      <th>other award</th>\n",
              "      <th>Action</th>\n",
              "      <th>Adventure</th>\n",
              "      <th>Animation</th>\n",
              "      <th>Comedy</th>\n",
              "      <th>Crime</th>\n",
              "      <th>Documentary</th>\n",
              "      <th>Drama</th>\n",
              "      <th>Fantasy</th>\n",
              "      <th>Foreign/International</th>\n",
              "      <th>Horror</th>\n",
              "      <th>Independent</th>\n",
              "      <th>Kids &amp; Family</th>\n",
              "      <th>Music</th>\n",
              "      <th>Musicals</th>\n",
              "      <th>Mystery</th>\n",
              "      <th>Romance</th>\n",
              "      <th>Sci-Fi</th>\n",
              "      <th>Sport</th>\n",
              "      <th>Thriller</th>\n",
              "      <th>War</th>\n",
              "      <th>Western</th>\n",
              "      <th>Misc_genres</th>\n",
              "      <th>1916-1974</th>\n",
              "      <th>1974-1991</th>\n",
              "      <th>1991-2001</th>\n",
              "      <th>2001-2006</th>\n",
              "      <th>2006-2008</th>\n",
              "      <th>2008-2010</th>\n",
              "      <th>2010-2012</th>\n",
              "      <th>2012-2013</th>\n",
              "      <th>2013-2014</th>\n",
              "      <th>2014-2017</th>\n",
              "    </tr>\n",
              "  </thead>\n",
              "  <tbody>\n",
              "    <tr>\n",
              "      <th>0</th>\n",
              "      <td>385504</td>\n",
              "      <td>307127.606</td>\n",
              "      <td>1</td>\n",
              "      <td>3</td>\n",
              "      <td>69614</td>\n",
              "      <td>15000000</td>\n",
              "      <td>42930462</td>\n",
              "      <td>6.500</td>\n",
              "      <td>112.301</td>\n",
              "      <td>51</td>\n",
              "      <td>1.710</td>\n",
              "      <td>1</td>\n",
              "      <td>0</td>\n",
              "      <td>0</td>\n",
              "      <td>0</td>\n",
              "      <td>0</td>\n",
              "      <td>0</td>\n",
              "      <td>0</td>\n",
              "      <td>0</td>\n",
              "      <td>1</td>\n",
              "      <td>0</td>\n",
              "      <td>0</td>\n",
              "      <td>0</td>\n",
              "      <td>0</td>\n",
              "      <td>0</td>\n",
              "      <td>1</td>\n",
              "      <td>1</td>\n",
              "      <td>0</td>\n",
              "      <td>0</td>\n",
              "      <td>0</td>\n",
              "      <td>0</td>\n",
              "      <td>0</td>\n",
              "      <td>1</td>\n",
              "      <td>0</td>\n",
              "      <td>0</td>\n",
              "      <td>0</td>\n",
              "      <td>0</td>\n",
              "      <td>0</td>\n",
              "      <td>0</td>\n",
              "      <td>0</td>\n",
              "      <td>0</td>\n",
              "      <td>0</td>\n",
              "      <td>0</td>\n",
              "      <td>0</td>\n",
              "      <td>1</td>\n",
              "      <td>0</td>\n",
              "      <td>0</td>\n",
              "      <td>0</td>\n",
              "      <td>0</td>\n",
              "      <td>0</td>\n",
              "      <td>0</td>\n",
              "      <td>0</td>\n",
              "      <td>0</td>\n",
              "      <td>0</td>\n",
              "      <td>0</td>\n",
              "      <td>1</td>\n",
              "      <td>0</td>\n",
              "      <td>0</td>\n",
              "    </tr>\n",
              "    <tr>\n",
              "      <th>1</th>\n",
              "      <td>300175</td>\n",
              "      <td>270338.426</td>\n",
              "      <td>1</td>\n",
              "      <td>3</td>\n",
              "      <td>46705</td>\n",
              "      <td>15000000</td>\n",
              "      <td>3301046</td>\n",
              "      <td>6.500</td>\n",
              "      <td>94.983</td>\n",
              "      <td>41</td>\n",
              "      <td>3.250</td>\n",
              "      <td>1</td>\n",
              "      <td>0</td>\n",
              "      <td>0</td>\n",
              "      <td>0</td>\n",
              "      <td>0</td>\n",
              "      <td>0</td>\n",
              "      <td>0</td>\n",
              "      <td>0</td>\n",
              "      <td>0</td>\n",
              "      <td>1</td>\n",
              "      <td>0</td>\n",
              "      <td>0</td>\n",
              "      <td>0</td>\n",
              "      <td>1</td>\n",
              "      <td>0</td>\n",
              "      <td>0</td>\n",
              "      <td>0</td>\n",
              "      <td>0</td>\n",
              "      <td>1</td>\n",
              "      <td>1</td>\n",
              "      <td>0</td>\n",
              "      <td>0</td>\n",
              "      <td>0</td>\n",
              "      <td>0</td>\n",
              "      <td>0</td>\n",
              "      <td>0</td>\n",
              "      <td>0</td>\n",
              "      <td>0</td>\n",
              "      <td>0</td>\n",
              "      <td>0</td>\n",
              "      <td>0</td>\n",
              "      <td>0</td>\n",
              "      <td>0</td>\n",
              "      <td>1</td>\n",
              "      <td>0</td>\n",
              "      <td>0</td>\n",
              "      <td>0</td>\n",
              "      <td>0</td>\n",
              "      <td>0</td>\n",
              "      <td>0</td>\n",
              "      <td>0</td>\n",
              "      <td>0</td>\n",
              "      <td>0</td>\n",
              "      <td>0</td>\n",
              "      <td>1</td>\n",
              "      <td>0</td>\n",
              "      <td>0</td>\n",
              "    </tr>\n",
              "    <tr>\n",
              "      <th>2</th>\n",
              "      <td>361899</td>\n",
              "      <td>256165.867</td>\n",
              "      <td>1</td>\n",
              "      <td>3</td>\n",
              "      <td>197596</td>\n",
              "      <td>26000000</td>\n",
              "      <td>37397291</td>\n",
              "      <td>7.300</td>\n",
              "      <td>115.764</td>\n",
              "      <td>58</td>\n",
              "      <td>2.647</td>\n",
              "      <td>0</td>\n",
              "      <td>0</td>\n",
              "      <td>1</td>\n",
              "      <td>0</td>\n",
              "      <td>0</td>\n",
              "      <td>0</td>\n",
              "      <td>0</td>\n",
              "      <td>0</td>\n",
              "      <td>0</td>\n",
              "      <td>1</td>\n",
              "      <td>0</td>\n",
              "      <td>0</td>\n",
              "      <td>0</td>\n",
              "      <td>0</td>\n",
              "      <td>1</td>\n",
              "      <td>0</td>\n",
              "      <td>0</td>\n",
              "      <td>0</td>\n",
              "      <td>0</td>\n",
              "      <td>1</td>\n",
              "      <td>0</td>\n",
              "      <td>1</td>\n",
              "      <td>0</td>\n",
              "      <td>0</td>\n",
              "      <td>0</td>\n",
              "      <td>0</td>\n",
              "      <td>0</td>\n",
              "      <td>0</td>\n",
              "      <td>0</td>\n",
              "      <td>0</td>\n",
              "      <td>0</td>\n",
              "      <td>0</td>\n",
              "      <td>0</td>\n",
              "      <td>0</td>\n",
              "      <td>0</td>\n",
              "      <td>0</td>\n",
              "      <td>0</td>\n",
              "      <td>0</td>\n",
              "      <td>0</td>\n",
              "      <td>0</td>\n",
              "      <td>0</td>\n",
              "      <td>0</td>\n",
              "      <td>0</td>\n",
              "      <td>1</td>\n",
              "      <td>0</td>\n",
              "      <td>0</td>\n",
              "      <td>0</td>\n",
              "    </tr>\n",
              "    <tr>\n",
              "      <th>3</th>\n",
              "      <td>308314</td>\n",
              "      <td>196622.721</td>\n",
              "      <td>3</td>\n",
              "      <td>4</td>\n",
              "      <td>356339</td>\n",
              "      <td>15000000</td>\n",
              "      <td>15700000</td>\n",
              "      <td>7.600</td>\n",
              "      <td>130.704</td>\n",
              "      <td>94</td>\n",
              "      <td>1.667</td>\n",
              "      <td>1</td>\n",
              "      <td>0</td>\n",
              "      <td>0</td>\n",
              "      <td>0</td>\n",
              "      <td>0</td>\n",
              "      <td>0</td>\n",
              "      <td>0</td>\n",
              "      <td>0</td>\n",
              "      <td>0</td>\n",
              "      <td>1</td>\n",
              "      <td>0</td>\n",
              "      <td>0</td>\n",
              "      <td>1</td>\n",
              "      <td>0</td>\n",
              "      <td>0</td>\n",
              "      <td>1</td>\n",
              "      <td>0</td>\n",
              "      <td>0</td>\n",
              "      <td>0</td>\n",
              "      <td>0</td>\n",
              "      <td>1</td>\n",
              "      <td>1</td>\n",
              "      <td>0</td>\n",
              "      <td>0</td>\n",
              "      <td>0</td>\n",
              "      <td>0</td>\n",
              "      <td>0</td>\n",
              "      <td>0</td>\n",
              "      <td>0</td>\n",
              "      <td>1</td>\n",
              "      <td>0</td>\n",
              "      <td>0</td>\n",
              "      <td>0</td>\n",
              "      <td>1</td>\n",
              "      <td>1</td>\n",
              "      <td>0</td>\n",
              "      <td>0</td>\n",
              "      <td>0</td>\n",
              "      <td>0</td>\n",
              "      <td>0</td>\n",
              "      <td>0</td>\n",
              "      <td>1</td>\n",
              "      <td>0</td>\n",
              "      <td>0</td>\n",
              "      <td>0</td>\n",
              "      <td>0</td>\n",
              "      <td>0</td>\n",
              "    </tr>\n",
              "    <tr>\n",
              "      <th>4</th>\n",
              "      <td>307201</td>\n",
              "      <td>159841.652</td>\n",
              "      <td>1</td>\n",
              "      <td>3</td>\n",
              "      <td>46720</td>\n",
              "      <td>27220000</td>\n",
              "      <td>8551228</td>\n",
              "      <td>6.400</td>\n",
              "      <td>105.546</td>\n",
              "      <td>37</td>\n",
              "      <td>3.067</td>\n",
              "      <td>1</td>\n",
              "      <td>0</td>\n",
              "      <td>0</td>\n",
              "      <td>0</td>\n",
              "      <td>0</td>\n",
              "      <td>0</td>\n",
              "      <td>0</td>\n",
              "      <td>0</td>\n",
              "      <td>0</td>\n",
              "      <td>1</td>\n",
              "      <td>0</td>\n",
              "      <td>0</td>\n",
              "      <td>0</td>\n",
              "      <td>0</td>\n",
              "      <td>1</td>\n",
              "      <td>0</td>\n",
              "      <td>0</td>\n",
              "      <td>0</td>\n",
              "      <td>0</td>\n",
              "      <td>1</td>\n",
              "      <td>1</td>\n",
              "      <td>0</td>\n",
              "      <td>0</td>\n",
              "      <td>0</td>\n",
              "      <td>0</td>\n",
              "      <td>0</td>\n",
              "      <td>0</td>\n",
              "      <td>0</td>\n",
              "      <td>0</td>\n",
              "      <td>1</td>\n",
              "      <td>0</td>\n",
              "      <td>0</td>\n",
              "      <td>0</td>\n",
              "      <td>1</td>\n",
              "      <td>0</td>\n",
              "      <td>0</td>\n",
              "      <td>0</td>\n",
              "      <td>0</td>\n",
              "      <td>0</td>\n",
              "      <td>0</td>\n",
              "      <td>0</td>\n",
              "      <td>0</td>\n",
              "      <td>0</td>\n",
              "      <td>0</td>\n",
              "      <td>1</td>\n",
              "      <td>0</td>\n",
              "      <td>0</td>\n",
              "    </tr>\n",
              "  </tbody>\n",
              "</table>\n",
              "</div>"
            ],
            "text/plain": [
              "   video_id  cvt_per_day  weighted_categorical_position  \\\n",
              "0    385504   307127.606                              1   \n",
              "1    300175   270338.426                              1   \n",
              "2    361899   256165.867                              1   \n",
              "3    308314   196622.721                              3   \n",
              "4    307201   159841.652                              1   \n",
              "\n",
              "   weighted_horizontal_poition  imdb_votes    budget  boxoffice  imdb_rating  \\\n",
              "0                            3       69614  15000000   42930462        6.500   \n",
              "1                            3       46705  15000000    3301046        6.500   \n",
              "2                            3      197596  26000000   37397291        7.300   \n",
              "3                            4      356339  15000000   15700000        7.600   \n",
              "4                            3       46720  27220000    8551228        6.400   \n",
              "\n",
              "   duration_in_mins  metacritic_score  star_category  lionsgate  mgm  other  \\\n",
              "0           112.301                51          1.710          1    0      0   \n",
              "1            94.983                41          3.250          1    0      0   \n",
              "2           115.764                58          2.647          0    0      1   \n",
              "3           130.704                94          1.667          1    0      0   \n",
              "4           105.546                37          3.067          1    0      0   \n",
              "\n",
              "   paramount  G  NC-17  NotRated  PG  PG-13  R  BAFTA  Golden Globe  Oscar  \\\n",
              "0          0  0      0         0   0      1  0      0             0      0   \n",
              "1          0  0      0         0   0      0  1      0             0      0   \n",
              "2          0  0      0         0   0      0  1      0             0      0   \n",
              "3          0  0      0         0   0      0  1      0             0      1   \n",
              "4          0  0      0         0   0      0  1      0             0      0   \n",
              "\n",
              "   no award  other award  Action  Adventure  Animation  Comedy  Crime  \\\n",
              "0         0            1       1          0          0       0      0   \n",
              "1         1            0       0          0          0       1      1   \n",
              "2         0            1       0          0          0       0      1   \n",
              "3         0            0       1          0          0       0      0   \n",
              "4         0            1       0          0          0       0      1   \n",
              "\n",
              "   Documentary  Drama  Fantasy  Foreign/International  Horror  Independent  \\\n",
              "0            0      1        0                      0       0            0   \n",
              "1            0      0        0                      0       0            0   \n",
              "2            0      1        0                      0       0            0   \n",
              "3            1      1        0                      0       0            0   \n",
              "4            1      0        0                      0       0            0   \n",
              "\n",
              "   Kids & Family  Music  Musicals  Mystery  Romance  Sci-Fi  Sport  Thriller  \\\n",
              "0              0      0         0        0        0       0      0         1   \n",
              "1              0      0         0        0        0       0      0         1   \n",
              "2              0      0         0        0        0       0      0         0   \n",
              "3              0      0         0        1        0       0      0         1   \n",
              "4              0      0         0        1        0       0      0         1   \n",
              "\n",
              "   War  Western  Misc_genres  1916-1974  1974-1991  1991-2001  2001-2006  \\\n",
              "0    0        0            0          0          0          0          0   \n",
              "1    0        0            0          0          0          0          0   \n",
              "2    0        0            0          0          0          0          0   \n",
              "3    1        0            0          0          0          0          0   \n",
              "4    0        0            0          0          0          0          0   \n",
              "\n",
              "   2006-2008  2008-2010  2010-2012  2012-2013  2013-2014  2014-2017  \n",
              "0          0          0          0          1          0          0  \n",
              "1          0          0          0          1          0          0  \n",
              "2          0          0          1          0          0          0  \n",
              "3          1          0          0          0          0          0  \n",
              "4          0          0          0          1          0          0  "
            ]
          },
          "metadata": {
            "tags": []
          },
          "execution_count": 16
        }
      ]
    },
    {
      "cell_type": "code",
      "metadata": {
        "id": "pE3WqQ6PPQYH",
        "colab_type": "code",
        "colab": {
          "base_uri": "https://localhost:8080/",
          "height": 1000
        },
        "outputId": "f3d8b551-46ac-4499-c09e-8241428b8917"
      },
      "source": [
        "# missing data as 0 in the dataset, replace 0 with NAN to count missing values\n",
        "newTV[['budget','boxoffice','metacritic_score', 'star_category','imdb_votes', 'imdb_rating']] = newTV[['budget','boxoffice','metacritic_score', 'star_category','imdb_votes', 'imdb_rating']].replace(0, np.nan)\n",
        "newTV.info()"
      ],
      "execution_count": 17,
      "outputs": [
        {
          "output_type": "stream",
          "text": [
            "<class 'pandas.core.frame.DataFrame'>\n",
            "RangeIndex: 4226 entries, 0 to 4225\n",
            "Data columns (total 58 columns):\n",
            " #   Column                         Non-Null Count  Dtype  \n",
            "---  ------                         --------------  -----  \n",
            " 0   video_id                       4226 non-null   int64  \n",
            " 1   cvt_per_day                    4226 non-null   float64\n",
            " 2   weighted_categorical_position  4226 non-null   int64  \n",
            " 3   weighted_horizontal_poition    4226 non-null   int64  \n",
            " 4   imdb_votes                     3882 non-null   float64\n",
            " 5   budget                         1772 non-null   float64\n",
            " 6   boxoffice                      1032 non-null   float64\n",
            " 7   imdb_rating                    3882 non-null   float64\n",
            " 8   duration_in_mins               4226 non-null   float64\n",
            " 9   metacritic_score               1214 non-null   float64\n",
            " 10  star_category                  2380 non-null   float64\n",
            " 11  lionsgate                      4226 non-null   int64  \n",
            " 12  mgm                            4226 non-null   int64  \n",
            " 13  other                          4226 non-null   int64  \n",
            " 14  paramount                      4226 non-null   int64  \n",
            " 15  G                              4226 non-null   int64  \n",
            " 16  NC-17                          4226 non-null   int64  \n",
            " 17  NotRated                       4226 non-null   int64  \n",
            " 18  PG                             4226 non-null   int64  \n",
            " 19  PG-13                          4226 non-null   int64  \n",
            " 20  R                              4226 non-null   int64  \n",
            " 21  BAFTA                          4226 non-null   int64  \n",
            " 22  Golden Globe                   4226 non-null   int64  \n",
            " 23  Oscar                          4226 non-null   int64  \n",
            " 24  no award                       4226 non-null   int64  \n",
            " 25  other award                    4226 non-null   int64  \n",
            " 26  Action                         4226 non-null   int64  \n",
            " 27  Adventure                      4226 non-null   int64  \n",
            " 28  Animation                      4226 non-null   int64  \n",
            " 29  Comedy                         4226 non-null   int64  \n",
            " 30  Crime                          4226 non-null   int64  \n",
            " 31  Documentary                    4226 non-null   int64  \n",
            " 32  Drama                          4226 non-null   int64  \n",
            " 33  Fantasy                        4226 non-null   int64  \n",
            " 34  Foreign/International          4226 non-null   int64  \n",
            " 35  Horror                         4226 non-null   int64  \n",
            " 36  Independent                    4226 non-null   int64  \n",
            " 37  Kids & Family                  4226 non-null   int64  \n",
            " 38  Music                          4226 non-null   int64  \n",
            " 39  Musicals                       4226 non-null   int64  \n",
            " 40  Mystery                        4226 non-null   int64  \n",
            " 41  Romance                        4226 non-null   int64  \n",
            " 42  Sci-Fi                         4226 non-null   int64  \n",
            " 43  Sport                          4226 non-null   int64  \n",
            " 44  Thriller                       4226 non-null   int64  \n",
            " 45  War                            4226 non-null   int64  \n",
            " 46  Western                        4226 non-null   int64  \n",
            " 47  Misc_genres                    4226 non-null   int64  \n",
            " 48  1916-1974                      4226 non-null   int64  \n",
            " 49  1974-1991                      4226 non-null   int64  \n",
            " 50  1991-2001                      4226 non-null   int64  \n",
            " 51  2001-2006                      4226 non-null   int64  \n",
            " 52  2006-2008                      4226 non-null   int64  \n",
            " 53  2008-2010                      4226 non-null   int64  \n",
            " 54  2010-2012                      4226 non-null   int64  \n",
            " 55  2012-2013                      4226 non-null   int64  \n",
            " 56  2013-2014                      4226 non-null   int64  \n",
            " 57  2014-2017                      4226 non-null   int64  \n",
            "dtypes: float64(8), int64(50)\n",
            "memory usage: 1.9 MB\n"
          ],
          "name": "stdout"
        }
      ]
    },
    {
      "cell_type": "code",
      "metadata": {
        "id": "iDfgAl4DQ8qh",
        "colab_type": "code",
        "colab": {}
      },
      "source": [
        "# fill missing data with mean values\n",
        "'''\n",
        "  imdb_votes\n",
        "  budget\n",
        "  boxoffice\n",
        "  imdb_rating\n",
        "  metacritic_score\n",
        "  star_category\n",
        "  '''\n",
        "newTV1 = newTV.copy()\n",
        "newTV1['imdb_votes'] = newTV1['imdb_votes'].fillna(newTV1['imdb_votes'].mean())\n",
        "newTV1['budget'] = newTV1['budget'].fillna(newTV1['budget'].mean())\n",
        "newTV1['boxoffice'] = newTV1['boxoffice'].fillna(newTV1['boxoffice'].mean())\n",
        "newTV1['imdb_rating'] = newTV1['imdb_rating'].fillna(newTV1['imdb_rating'].mean())\n",
        "newTV1['metacritic_score'] = newTV1['metacritic_score'].fillna(newTV1['metacritic_score'].mean())\n",
        "newTV1['star_category'] = newTV1['star_category'].fillna(newTV1['star_category'].mean())"
      ],
      "execution_count": 18,
      "outputs": []
    },
    {
      "cell_type": "code",
      "metadata": {
        "id": "bcgCduO8TWcG",
        "colab_type": "code",
        "colab": {
          "base_uri": "https://localhost:8080/",
          "height": 1000
        },
        "outputId": "8e7dbb7c-5cac-4579-ab42-98ab248b48b7"
      },
      "source": [
        "newTV1.info()"
      ],
      "execution_count": 19,
      "outputs": [
        {
          "output_type": "stream",
          "text": [
            "<class 'pandas.core.frame.DataFrame'>\n",
            "RangeIndex: 4226 entries, 0 to 4225\n",
            "Data columns (total 58 columns):\n",
            " #   Column                         Non-Null Count  Dtype  \n",
            "---  ------                         --------------  -----  \n",
            " 0   video_id                       4226 non-null   int64  \n",
            " 1   cvt_per_day                    4226 non-null   float64\n",
            " 2   weighted_categorical_position  4226 non-null   int64  \n",
            " 3   weighted_horizontal_poition    4226 non-null   int64  \n",
            " 4   imdb_votes                     4226 non-null   float64\n",
            " 5   budget                         4226 non-null   float64\n",
            " 6   boxoffice                      4226 non-null   float64\n",
            " 7   imdb_rating                    4226 non-null   float64\n",
            " 8   duration_in_mins               4226 non-null   float64\n",
            " 9   metacritic_score               4226 non-null   float64\n",
            " 10  star_category                  4226 non-null   float64\n",
            " 11  lionsgate                      4226 non-null   int64  \n",
            " 12  mgm                            4226 non-null   int64  \n",
            " 13  other                          4226 non-null   int64  \n",
            " 14  paramount                      4226 non-null   int64  \n",
            " 15  G                              4226 non-null   int64  \n",
            " 16  NC-17                          4226 non-null   int64  \n",
            " 17  NotRated                       4226 non-null   int64  \n",
            " 18  PG                             4226 non-null   int64  \n",
            " 19  PG-13                          4226 non-null   int64  \n",
            " 20  R                              4226 non-null   int64  \n",
            " 21  BAFTA                          4226 non-null   int64  \n",
            " 22  Golden Globe                   4226 non-null   int64  \n",
            " 23  Oscar                          4226 non-null   int64  \n",
            " 24  no award                       4226 non-null   int64  \n",
            " 25  other award                    4226 non-null   int64  \n",
            " 26  Action                         4226 non-null   int64  \n",
            " 27  Adventure                      4226 non-null   int64  \n",
            " 28  Animation                      4226 non-null   int64  \n",
            " 29  Comedy                         4226 non-null   int64  \n",
            " 30  Crime                          4226 non-null   int64  \n",
            " 31  Documentary                    4226 non-null   int64  \n",
            " 32  Drama                          4226 non-null   int64  \n",
            " 33  Fantasy                        4226 non-null   int64  \n",
            " 34  Foreign/International          4226 non-null   int64  \n",
            " 35  Horror                         4226 non-null   int64  \n",
            " 36  Independent                    4226 non-null   int64  \n",
            " 37  Kids & Family                  4226 non-null   int64  \n",
            " 38  Music                          4226 non-null   int64  \n",
            " 39  Musicals                       4226 non-null   int64  \n",
            " 40  Mystery                        4226 non-null   int64  \n",
            " 41  Romance                        4226 non-null   int64  \n",
            " 42  Sci-Fi                         4226 non-null   int64  \n",
            " 43  Sport                          4226 non-null   int64  \n",
            " 44  Thriller                       4226 non-null   int64  \n",
            " 45  War                            4226 non-null   int64  \n",
            " 46  Western                        4226 non-null   int64  \n",
            " 47  Misc_genres                    4226 non-null   int64  \n",
            " 48  1916-1974                      4226 non-null   int64  \n",
            " 49  1974-1991                      4226 non-null   int64  \n",
            " 50  1991-2001                      4226 non-null   int64  \n",
            " 51  2001-2006                      4226 non-null   int64  \n",
            " 52  2006-2008                      4226 non-null   int64  \n",
            " 53  2008-2010                      4226 non-null   int64  \n",
            " 54  2010-2012                      4226 non-null   int64  \n",
            " 55  2012-2013                      4226 non-null   int64  \n",
            " 56  2013-2014                      4226 non-null   int64  \n",
            " 57  2014-2017                      4226 non-null   int64  \n",
            "dtypes: float64(8), int64(50)\n",
            "memory usage: 1.9 MB\n"
          ],
          "name": "stdout"
        }
      ]
    },
    {
      "cell_type": "code",
      "metadata": {
        "id": "Fsl_3Gc0TbMf",
        "colab_type": "code",
        "colab": {}
      },
      "source": [
        "# feature scaling\n",
        "scale_lst = ['weighted_categorical_position', 'weighted_horizontal_poition', 'budget','boxoffice', \n",
        "             'imdb_votes','imdb_rating','duration_in_mins', 'metacritic_score','star_category']\n",
        "newTV_sc = newTV1.copy()"
      ],
      "execution_count": 20,
      "outputs": []
    },
    {
      "cell_type": "code",
      "metadata": {
        "id": "K-oIEwWxTkuH",
        "colab_type": "code",
        "colab": {
          "base_uri": "https://localhost:8080/",
          "height": 241
        },
        "outputId": "f63d0f01-efe7-4004-85b5-18a8e7fe6f63"
      },
      "source": [
        "sc_scale = preprocessing.StandardScaler().fit(newTV_sc[scale_lst])\n",
        "newTV_sc[scale_lst] = sc_scale.transform(newTV_sc[scale_lst])\n",
        "newTV_sc.head()"
      ],
      "execution_count": 21,
      "outputs": [
        {
          "output_type": "execute_result",
          "data": {
            "text/html": [
              "<div>\n",
              "<style scoped>\n",
              "    .dataframe tbody tr th:only-of-type {\n",
              "        vertical-align: middle;\n",
              "    }\n",
              "\n",
              "    .dataframe tbody tr th {\n",
              "        vertical-align: top;\n",
              "    }\n",
              "\n",
              "    .dataframe thead th {\n",
              "        text-align: right;\n",
              "    }\n",
              "</style>\n",
              "<table border=\"1\" class=\"dataframe\">\n",
              "  <thead>\n",
              "    <tr style=\"text-align: right;\">\n",
              "      <th></th>\n",
              "      <th>video_id</th>\n",
              "      <th>cvt_per_day</th>\n",
              "      <th>weighted_categorical_position</th>\n",
              "      <th>weighted_horizontal_poition</th>\n",
              "      <th>imdb_votes</th>\n",
              "      <th>budget</th>\n",
              "      <th>boxoffice</th>\n",
              "      <th>imdb_rating</th>\n",
              "      <th>duration_in_mins</th>\n",
              "      <th>metacritic_score</th>\n",
              "      <th>star_category</th>\n",
              "      <th>lionsgate</th>\n",
              "      <th>mgm</th>\n",
              "      <th>other</th>\n",
              "      <th>paramount</th>\n",
              "      <th>G</th>\n",
              "      <th>NC-17</th>\n",
              "      <th>NotRated</th>\n",
              "      <th>PG</th>\n",
              "      <th>PG-13</th>\n",
              "      <th>R</th>\n",
              "      <th>BAFTA</th>\n",
              "      <th>Golden Globe</th>\n",
              "      <th>Oscar</th>\n",
              "      <th>no award</th>\n",
              "      <th>other award</th>\n",
              "      <th>Action</th>\n",
              "      <th>Adventure</th>\n",
              "      <th>Animation</th>\n",
              "      <th>Comedy</th>\n",
              "      <th>Crime</th>\n",
              "      <th>Documentary</th>\n",
              "      <th>Drama</th>\n",
              "      <th>Fantasy</th>\n",
              "      <th>Foreign/International</th>\n",
              "      <th>Horror</th>\n",
              "      <th>Independent</th>\n",
              "      <th>Kids &amp; Family</th>\n",
              "      <th>Music</th>\n",
              "      <th>Musicals</th>\n",
              "      <th>Mystery</th>\n",
              "      <th>Romance</th>\n",
              "      <th>Sci-Fi</th>\n",
              "      <th>Sport</th>\n",
              "      <th>Thriller</th>\n",
              "      <th>War</th>\n",
              "      <th>Western</th>\n",
              "      <th>Misc_genres</th>\n",
              "      <th>1916-1974</th>\n",
              "      <th>1974-1991</th>\n",
              "      <th>1991-2001</th>\n",
              "      <th>2001-2006</th>\n",
              "      <th>2006-2008</th>\n",
              "      <th>2008-2010</th>\n",
              "      <th>2010-2012</th>\n",
              "      <th>2012-2013</th>\n",
              "      <th>2013-2014</th>\n",
              "      <th>2014-2017</th>\n",
              "    </tr>\n",
              "  </thead>\n",
              "  <tbody>\n",
              "    <tr>\n",
              "      <th>0</th>\n",
              "      <td>385504</td>\n",
              "      <td>307127.606</td>\n",
              "      <td>-1.106</td>\n",
              "      <td>-2.116</td>\n",
              "      <td>1.984</td>\n",
              "      <td>1.470</td>\n",
              "      <td>4.696</td>\n",
              "      <td>0.542</td>\n",
              "      <td>1.079</td>\n",
              "      <td>-0.630</td>\n",
              "      <td>0.033</td>\n",
              "      <td>1</td>\n",
              "      <td>0</td>\n",
              "      <td>0</td>\n",
              "      <td>0</td>\n",
              "      <td>0</td>\n",
              "      <td>0</td>\n",
              "      <td>0</td>\n",
              "      <td>0</td>\n",
              "      <td>1</td>\n",
              "      <td>0</td>\n",
              "      <td>0</td>\n",
              "      <td>0</td>\n",
              "      <td>0</td>\n",
              "      <td>0</td>\n",
              "      <td>1</td>\n",
              "      <td>1</td>\n",
              "      <td>0</td>\n",
              "      <td>0</td>\n",
              "      <td>0</td>\n",
              "      <td>0</td>\n",
              "      <td>0</td>\n",
              "      <td>1</td>\n",
              "      <td>0</td>\n",
              "      <td>0</td>\n",
              "      <td>0</td>\n",
              "      <td>0</td>\n",
              "      <td>0</td>\n",
              "      <td>0</td>\n",
              "      <td>0</td>\n",
              "      <td>0</td>\n",
              "      <td>0</td>\n",
              "      <td>0</td>\n",
              "      <td>0</td>\n",
              "      <td>1</td>\n",
              "      <td>0</td>\n",
              "      <td>0</td>\n",
              "      <td>0</td>\n",
              "      <td>0</td>\n",
              "      <td>0</td>\n",
              "      <td>0</td>\n",
              "      <td>0</td>\n",
              "      <td>0</td>\n",
              "      <td>0</td>\n",
              "      <td>0</td>\n",
              "      <td>1</td>\n",
              "      <td>0</td>\n",
              "      <td>0</td>\n",
              "    </tr>\n",
              "    <tr>\n",
              "      <th>1</th>\n",
              "      <td>300175</td>\n",
              "      <td>270338.426</td>\n",
              "      <td>-1.106</td>\n",
              "      <td>-2.116</td>\n",
              "      <td>1.258</td>\n",
              "      <td>1.470</td>\n",
              "      <td>-1.022</td>\n",
              "      <td>0.542</td>\n",
              "      <td>0.257</td>\n",
              "      <td>-1.997</td>\n",
              "      <td>3.434</td>\n",
              "      <td>1</td>\n",
              "      <td>0</td>\n",
              "      <td>0</td>\n",
              "      <td>0</td>\n",
              "      <td>0</td>\n",
              "      <td>0</td>\n",
              "      <td>0</td>\n",
              "      <td>0</td>\n",
              "      <td>0</td>\n",
              "      <td>1</td>\n",
              "      <td>0</td>\n",
              "      <td>0</td>\n",
              "      <td>0</td>\n",
              "      <td>1</td>\n",
              "      <td>0</td>\n",
              "      <td>0</td>\n",
              "      <td>0</td>\n",
              "      <td>0</td>\n",
              "      <td>1</td>\n",
              "      <td>1</td>\n",
              "      <td>0</td>\n",
              "      <td>0</td>\n",
              "      <td>0</td>\n",
              "      <td>0</td>\n",
              "      <td>0</td>\n",
              "      <td>0</td>\n",
              "      <td>0</td>\n",
              "      <td>0</td>\n",
              "      <td>0</td>\n",
              "      <td>0</td>\n",
              "      <td>0</td>\n",
              "      <td>0</td>\n",
              "      <td>0</td>\n",
              "      <td>1</td>\n",
              "      <td>0</td>\n",
              "      <td>0</td>\n",
              "      <td>0</td>\n",
              "      <td>0</td>\n",
              "      <td>0</td>\n",
              "      <td>0</td>\n",
              "      <td>0</td>\n",
              "      <td>0</td>\n",
              "      <td>0</td>\n",
              "      <td>0</td>\n",
              "      <td>1</td>\n",
              "      <td>0</td>\n",
              "      <td>0</td>\n",
              "    </tr>\n",
              "    <tr>\n",
              "      <th>2</th>\n",
              "      <td>361899</td>\n",
              "      <td>256165.867</td>\n",
              "      <td>-1.106</td>\n",
              "      <td>-2.116</td>\n",
              "      <td>6.043</td>\n",
              "      <td>3.108</td>\n",
              "      <td>3.898</td>\n",
              "      <td>1.100</td>\n",
              "      <td>1.243</td>\n",
              "      <td>0.327</td>\n",
              "      <td>2.102</td>\n",
              "      <td>0</td>\n",
              "      <td>0</td>\n",
              "      <td>1</td>\n",
              "      <td>0</td>\n",
              "      <td>0</td>\n",
              "      <td>0</td>\n",
              "      <td>0</td>\n",
              "      <td>0</td>\n",
              "      <td>0</td>\n",
              "      <td>1</td>\n",
              "      <td>0</td>\n",
              "      <td>0</td>\n",
              "      <td>0</td>\n",
              "      <td>0</td>\n",
              "      <td>1</td>\n",
              "      <td>0</td>\n",
              "      <td>0</td>\n",
              "      <td>0</td>\n",
              "      <td>0</td>\n",
              "      <td>1</td>\n",
              "      <td>0</td>\n",
              "      <td>1</td>\n",
              "      <td>0</td>\n",
              "      <td>0</td>\n",
              "      <td>0</td>\n",
              "      <td>0</td>\n",
              "      <td>0</td>\n",
              "      <td>0</td>\n",
              "      <td>0</td>\n",
              "      <td>0</td>\n",
              "      <td>0</td>\n",
              "      <td>0</td>\n",
              "      <td>0</td>\n",
              "      <td>0</td>\n",
              "      <td>0</td>\n",
              "      <td>0</td>\n",
              "      <td>0</td>\n",
              "      <td>0</td>\n",
              "      <td>0</td>\n",
              "      <td>0</td>\n",
              "      <td>0</td>\n",
              "      <td>0</td>\n",
              "      <td>0</td>\n",
              "      <td>1</td>\n",
              "      <td>0</td>\n",
              "      <td>0</td>\n",
              "      <td>0</td>\n",
              "    </tr>\n",
              "    <tr>\n",
              "      <th>3</th>\n",
              "      <td>308314</td>\n",
              "      <td>196622.721</td>\n",
              "      <td>-0.780</td>\n",
              "      <td>-2.032</td>\n",
              "      <td>11.077</td>\n",
              "      <td>1.470</td>\n",
              "      <td>0.767</td>\n",
              "      <td>1.309</td>\n",
              "      <td>1.952</td>\n",
              "      <td>5.250</td>\n",
              "      <td>-0.063</td>\n",
              "      <td>1</td>\n",
              "      <td>0</td>\n",
              "      <td>0</td>\n",
              "      <td>0</td>\n",
              "      <td>0</td>\n",
              "      <td>0</td>\n",
              "      <td>0</td>\n",
              "      <td>0</td>\n",
              "      <td>0</td>\n",
              "      <td>1</td>\n",
              "      <td>0</td>\n",
              "      <td>0</td>\n",
              "      <td>1</td>\n",
              "      <td>0</td>\n",
              "      <td>0</td>\n",
              "      <td>1</td>\n",
              "      <td>0</td>\n",
              "      <td>0</td>\n",
              "      <td>0</td>\n",
              "      <td>0</td>\n",
              "      <td>1</td>\n",
              "      <td>1</td>\n",
              "      <td>0</td>\n",
              "      <td>0</td>\n",
              "      <td>0</td>\n",
              "      <td>0</td>\n",
              "      <td>0</td>\n",
              "      <td>0</td>\n",
              "      <td>0</td>\n",
              "      <td>1</td>\n",
              "      <td>0</td>\n",
              "      <td>0</td>\n",
              "      <td>0</td>\n",
              "      <td>1</td>\n",
              "      <td>1</td>\n",
              "      <td>0</td>\n",
              "      <td>0</td>\n",
              "      <td>0</td>\n",
              "      <td>0</td>\n",
              "      <td>0</td>\n",
              "      <td>0</td>\n",
              "      <td>1</td>\n",
              "      <td>0</td>\n",
              "      <td>0</td>\n",
              "      <td>0</td>\n",
              "      <td>0</td>\n",
              "      <td>0</td>\n",
              "    </tr>\n",
              "    <tr>\n",
              "      <th>4</th>\n",
              "      <td>307201</td>\n",
              "      <td>159841.652</td>\n",
              "      <td>-1.106</td>\n",
              "      <td>-2.116</td>\n",
              "      <td>1.258</td>\n",
              "      <td>3.290</td>\n",
              "      <td>-0.265</td>\n",
              "      <td>0.472</td>\n",
              "      <td>0.758</td>\n",
              "      <td>-2.544</td>\n",
              "      <td>3.029</td>\n",
              "      <td>1</td>\n",
              "      <td>0</td>\n",
              "      <td>0</td>\n",
              "      <td>0</td>\n",
              "      <td>0</td>\n",
              "      <td>0</td>\n",
              "      <td>0</td>\n",
              "      <td>0</td>\n",
              "      <td>0</td>\n",
              "      <td>1</td>\n",
              "      <td>0</td>\n",
              "      <td>0</td>\n",
              "      <td>0</td>\n",
              "      <td>0</td>\n",
              "      <td>1</td>\n",
              "      <td>0</td>\n",
              "      <td>0</td>\n",
              "      <td>0</td>\n",
              "      <td>0</td>\n",
              "      <td>1</td>\n",
              "      <td>1</td>\n",
              "      <td>0</td>\n",
              "      <td>0</td>\n",
              "      <td>0</td>\n",
              "      <td>0</td>\n",
              "      <td>0</td>\n",
              "      <td>0</td>\n",
              "      <td>0</td>\n",
              "      <td>0</td>\n",
              "      <td>1</td>\n",
              "      <td>0</td>\n",
              "      <td>0</td>\n",
              "      <td>0</td>\n",
              "      <td>1</td>\n",
              "      <td>0</td>\n",
              "      <td>0</td>\n",
              "      <td>0</td>\n",
              "      <td>0</td>\n",
              "      <td>0</td>\n",
              "      <td>0</td>\n",
              "      <td>0</td>\n",
              "      <td>0</td>\n",
              "      <td>0</td>\n",
              "      <td>0</td>\n",
              "      <td>1</td>\n",
              "      <td>0</td>\n",
              "      <td>0</td>\n",
              "    </tr>\n",
              "  </tbody>\n",
              "</table>\n",
              "</div>"
            ],
            "text/plain": [
              "   video_id  cvt_per_day  weighted_categorical_position  \\\n",
              "0    385504   307127.606                         -1.106   \n",
              "1    300175   270338.426                         -1.106   \n",
              "2    361899   256165.867                         -1.106   \n",
              "3    308314   196622.721                         -0.780   \n",
              "4    307201   159841.652                         -1.106   \n",
              "\n",
              "   weighted_horizontal_poition  imdb_votes  budget  boxoffice  imdb_rating  \\\n",
              "0                       -2.116       1.984   1.470      4.696        0.542   \n",
              "1                       -2.116       1.258   1.470     -1.022        0.542   \n",
              "2                       -2.116       6.043   3.108      3.898        1.100   \n",
              "3                       -2.032      11.077   1.470      0.767        1.309   \n",
              "4                       -2.116       1.258   3.290     -0.265        0.472   \n",
              "\n",
              "   duration_in_mins  metacritic_score  star_category  lionsgate  mgm  other  \\\n",
              "0             1.079            -0.630          0.033          1    0      0   \n",
              "1             0.257            -1.997          3.434          1    0      0   \n",
              "2             1.243             0.327          2.102          0    0      1   \n",
              "3             1.952             5.250         -0.063          1    0      0   \n",
              "4             0.758            -2.544          3.029          1    0      0   \n",
              "\n",
              "   paramount  G  NC-17  NotRated  PG  PG-13  R  BAFTA  Golden Globe  Oscar  \\\n",
              "0          0  0      0         0   0      1  0      0             0      0   \n",
              "1          0  0      0         0   0      0  1      0             0      0   \n",
              "2          0  0      0         0   0      0  1      0             0      0   \n",
              "3          0  0      0         0   0      0  1      0             0      1   \n",
              "4          0  0      0         0   0      0  1      0             0      0   \n",
              "\n",
              "   no award  other award  Action  Adventure  Animation  Comedy  Crime  \\\n",
              "0         0            1       1          0          0       0      0   \n",
              "1         1            0       0          0          0       1      1   \n",
              "2         0            1       0          0          0       0      1   \n",
              "3         0            0       1          0          0       0      0   \n",
              "4         0            1       0          0          0       0      1   \n",
              "\n",
              "   Documentary  Drama  Fantasy  Foreign/International  Horror  Independent  \\\n",
              "0            0      1        0                      0       0            0   \n",
              "1            0      0        0                      0       0            0   \n",
              "2            0      1        0                      0       0            0   \n",
              "3            1      1        0                      0       0            0   \n",
              "4            1      0        0                      0       0            0   \n",
              "\n",
              "   Kids & Family  Music  Musicals  Mystery  Romance  Sci-Fi  Sport  Thriller  \\\n",
              "0              0      0         0        0        0       0      0         1   \n",
              "1              0      0         0        0        0       0      0         1   \n",
              "2              0      0         0        0        0       0      0         0   \n",
              "3              0      0         0        1        0       0      0         1   \n",
              "4              0      0         0        1        0       0      0         1   \n",
              "\n",
              "   War  Western  Misc_genres  1916-1974  1974-1991  1991-2001  2001-2006  \\\n",
              "0    0        0            0          0          0          0          0   \n",
              "1    0        0            0          0          0          0          0   \n",
              "2    0        0            0          0          0          0          0   \n",
              "3    1        0            0          0          0          0          0   \n",
              "4    0        0            0          0          0          0          0   \n",
              "\n",
              "   2006-2008  2008-2010  2010-2012  2012-2013  2013-2014  2014-2017  \n",
              "0          0          0          0          1          0          0  \n",
              "1          0          0          0          1          0          0  \n",
              "2          0          0          1          0          0          0  \n",
              "3          1          0          0          0          0          0  \n",
              "4          0          0          0          1          0          0  "
            ]
          },
          "metadata": {
            "tags": []
          },
          "execution_count": 21
        }
      ]
    },
    {
      "cell_type": "markdown",
      "metadata": {
        "id": "o9--5kZrVEzq",
        "colab_type": "text"
      },
      "source": [
        "## Model building \n",
        "- training \n",
        "- evaluation \n",
        "- camparison"
      ]
    },
    {
      "cell_type": "code",
      "metadata": {
        "id": "t2DRSwvpT1Wa",
        "colab_type": "code",
        "colab": {}
      },
      "source": [
        "train,test = train_test_split(newTV_sc, test_size = 0.2, random_state = 1)\n",
        "model_train_x = train.drop(['video_id','cvt_per_day'], axis=1)\n",
        "model_train_y = train['cvt_per_day']\n",
        "model_test_x = test.drop(['video_id','cvt_per_day'], axis=1)\n",
        "model_test_y = test['cvt_per_day']"
      ],
      "execution_count": 22,
      "outputs": []
    },
    {
      "cell_type": "code",
      "metadata": {
        "id": "J7coOjnuVzhR",
        "colab_type": "code",
        "colab": {
          "base_uri": "https://localhost:8080/",
          "height": 312
        },
        "outputId": "39c7c1d2-facd-4ac3-9f0a-7d25ecc46dc6"
      },
      "source": [
        "from sklearn.linear_model import LinearRegression, Lasso, Ridge\n",
        "from sklearn.metrics import mean_squared_error, r2_score\n",
        "from math import sqrt\n",
        "\n",
        "lr_train, lr_validate = train_test_split(train, test_size = 0.2, random_state = 0)\n",
        "lr_train_x = lr_train.drop(['video_id','cvt_per_day'], axis =1)\n",
        "lr_validate_x = lr_validate.drop(['video_id','cvt_per_day'], axis =1)\n",
        "lr_train_y = lr_train['cvt_per_day']\n",
        "lr_validate_y = lr_validate['cvt_per_day']\n",
        "\n",
        "\n",
        "#### Lasso\n",
        "alphas = np.logspace (-0.3, 2.5, num=150)\n",
        "scores = np.empty_like(alphas)\n",
        "optimal_a = float('-inf')\n",
        "max_score = float('-inf')\n",
        "for i, a in enumerate(alphas):\n",
        "  lasso = Lasso()\n",
        "  lasso.set_params(alpha = a)\n",
        "  lasso.fit(lr_train_x, lr_train_y)\n",
        "  scores[i] = lasso.score(lr_validate_x, lr_validate_y)\n",
        "  if scores[i] > max_score:\n",
        "    max_score = scores[i]\n",
        "    optimal_a = a\n",
        "    lasso_save = lasso\n",
        "\n",
        "plt.plot(alphas, scores, color='b', linestyle='dashed', marker='o',markerfacecolor='blue', markersize=6)\n",
        "plt.xlabel('alpha')\n",
        "plt.ylabel('score')\n",
        "plt.title('score - alpha')\n",
        "plt.show()\n",
        "print('The optimized alpha and score of Lasso linear regression are:', optimal_a, max_score)\n",
        "model1_para = optimal_a"
      ],
      "execution_count": 33,
      "outputs": [
        {
          "output_type": "display_data",
          "data": {
            "image/png": "[encoded data removed]",
            "text/plain": [
              "<Figure size 432x288 with 1 Axes>"
            ]
          },
          "metadata": {
            "tags": [],
            "needs_background": "light"
          }
        },
        {
          "output_type": "stream",
          "text": [
            "The optimized alpha and score of Lasso linear regression are: 41.37886018470623 0.33752354485215397\n"
          ],
          "name": "stdout"
        }
      ]
    },
    {
      "cell_type": "code",
      "metadata": {
        "id": "dRELsolSc5T2",
        "colab_type": "code",
        "colab": {
          "base_uri": "https://localhost:8080/",
          "height": 68
        },
        "outputId": "62267452-ad6e-4f49-c664-c3194049420f"
      },
      "source": [
        "# retrain lasso use both train and validation data\n",
        "lasso_final = Lasso()\n",
        "lasso_final.set_params(alpha = optimal_a)\n",
        "lasso_final.fit(model_train_x, model_train_y)"
      ],
      "execution_count": 24,
      "outputs": [
        {
          "output_type": "execute_result",
          "data": {
            "text/plain": [
              "Lasso(alpha=41.37886018470623, copy_X=True, fit_intercept=True, max_iter=1000,\n",
              "      normalize=False, positive=False, precompute=False, random_state=None,\n",
              "      selection='cyclic', tol=0.0001, warm_start=False)"
            ]
          },
          "metadata": {
            "tags": []
          },
          "execution_count": 24
        }
      ]
    },
    {
      "cell_type": "code",
      "metadata": {
        "id": "A4M4MYKqeSq8",
        "colab_type": "code",
        "colab": {
          "base_uri": "https://localhost:8080/",
          "height": 312
        },
        "outputId": "25ac8937-1bbb-402b-d384-d4bfb2f1aba1"
      },
      "source": [
        "### Ridge\n",
        "alphas = np.logspace(-10, 3, num=150)\n",
        "scores = np.empty_like(alphas)\n",
        "optimal_a = float('-inf')\n",
        "max_score = float('-inf')\n",
        "for i, a in enumerate(alphas):\n",
        "  ridge = Ridge()\n",
        "  ridge.set_params(alpha = a)\n",
        "  ridge.fit(lr_train_x, lr_train_y)\n",
        "  scores[i] = ridge.score(lr_validate_x, lr_validate_y)\n",
        "  if scores[i]> max_score:\n",
        "    max_score = scores[i]\n",
        "    optimal_a = a\n",
        "    ridge_save = ridge\n",
        "\n",
        "plt.plot(alphas, scores, color='b', linestyle='dashed', marker='o',markerfacecolor='blue', markersize=6)\n",
        "plt.xlabel('alpha')\n",
        "plt.ylabel('score')\n",
        "plt.title('score - alpha')\n",
        "plt.show()\n",
        "print('The optimized alpha and score of Lasso linear regression are:', optimal_a, max_score)\n",
        "model2_para= optimal_a"
      ],
      "execution_count": 34,
      "outputs": [
        {
          "output_type": "display_data",
          "data": {
            "image/png": "[encoded data removed]",
            "text/plain": [
              "<Figure size 432x288 with 1 Axes>"
            ]
          },
          "metadata": {
            "tags": [],
            "needs_background": "light"
          }
        },
        {
          "output_type": "stream",
          "text": [
            "The optimized alpha and score of Lasso linear regression are: 73.41280397070116 0.3338071743988278\n"
          ],
          "name": "stdout"
        }
      ]
    },
    {
      "cell_type": "code",
      "metadata": {
        "id": "Yvmocjnu2QMv",
        "colab_type": "code",
        "colab": {
          "base_uri": "https://localhost:8080/",
          "height": 51
        },
        "outputId": "bd78e6ee-ae8f-479c-c115-323f5f93d6c8"
      },
      "source": [
        "# retrain Ridge use both train and validation data\n",
        "ridge_final = Ridge()\n",
        "ridge_final.set_params(alpha = optimal_a)\n",
        "ridge_final.fit(model_train_x, model_train_y)"
      ],
      "execution_count": 26,
      "outputs": [
        {
          "output_type": "execute_result",
          "data": {
            "text/plain": [
              "Ridge(alpha=73.41280397070116, copy_X=True, fit_intercept=True, max_iter=None,\n",
              "      normalize=False, random_state=None, solver='auto', tol=0.001)"
            ]
          },
          "metadata": {
            "tags": []
          },
          "execution_count": 26
        }
      ]
    },
    {
      "cell_type": "code",
      "metadata": {
        "id": "L_VNFoKZ4mzn",
        "colab_type": "code",
        "colab": {
          "base_uri": "https://localhost:8080/",
          "height": 357
        },
        "outputId": "7b43e754-1c74-4034-ecad-be8f6d937455"
      },
      "source": [
        "### Random Forest\n",
        "from sklearn.ensemble import RandomForestRegressor\n",
        "from sklearn.model_selection import GridSearchCV\n",
        "rf = RandomForestRegressor(random_state = 2, max_features='sqrt', n_jobs=-1)\n",
        "param_grid={'n_estimators':[55,56,57,58,59,60,61,62,63,64,65],'max_depth':[15,16,17,18,19,20,21]}\n",
        "clf=GridSearchCV(estimator=rf,param_grid=param_grid,cv=5,refit=True,n_jobs=-1,pre_dispatch='2*n_jobs')\n",
        "clf.fit(model_train_x,model_train_y)"
      ],
      "execution_count": 28,
      "outputs": [
        {
          "output_type": "execute_result",
          "data": {
            "text/plain": [
              "GridSearchCV(cv=5, error_score=nan,\n",
              "             estimator=RandomForestRegressor(bootstrap=True, ccp_alpha=0.0,\n",
              "                                             criterion='mse', max_depth=None,\n",
              "                                             max_features='sqrt',\n",
              "                                             max_leaf_nodes=None,\n",
              "                                             max_samples=None,\n",
              "                                             min_impurity_decrease=0.0,\n",
              "                                             min_impurity_split=None,\n",
              "                                             min_samples_leaf=1,\n",
              "                                             min_samples_split=2,\n",
              "                                             min_weight_fraction_leaf=0.0,\n",
              "                                             n_estimators=100, n_jobs=-1,\n",
              "                                             oob_score=False, random_state=2,\n",
              "                                             verbose=0, warm_start=False),\n",
              "             iid='deprecated', n_jobs=-1,\n",
              "             param_grid={'max_depth': [15, 16, 17, 18, 19, 20, 21],\n",
              "                         'n_estimators': [55, 56, 57, 58, 59, 60, 61, 62, 63,\n",
              "                                          64, 65]},\n",
              "             pre_dispatch='2*n_jobs', refit=True, return_train_score=False,\n",
              "             scoring=None, verbose=0)"
            ]
          },
          "metadata": {
            "tags": []
          },
          "execution_count": 28
        }
      ]
    },
    {
      "cell_type": "code",
      "metadata": {
        "id": "9fVREhXH99a1",
        "colab_type": "code",
        "colab": {
          "base_uri": "https://localhost:8080/",
          "height": 314
        },
        "outputId": "247d78e9-fe66-46a0-f08a-47303c6b98e7"
      },
      "source": [
        "result=clf.cv_results_\n",
        "max_depth=[15,16,17,18,19,20,21]\n",
        "n_estimators=[55,56,57,58,59,60,61,62,63,64,65]\n",
        "scores=clf.cv_results_['mean_test_score'].reshape(len(max_depth),len(n_estimators))\n",
        "plt.figure(1)\n",
        "plt.subplot(1,1,1)\n",
        "for i,j in enumerate(max_depth):\n",
        "  plt.plot(n_estimators,scores[i],'-o',label='max_depths is: '+str(j))\n",
        "plt.legend(bbox_to_anchor=(1.05, 1), loc='upper left', borderaxespad=0.)\n",
        "plt.xlabel('mean_test_score')\n",
        "plt.ylabel('n_estimators')\n",
        "plt.show()\n",
        "print('the best parameter for max_depth is: '+str(clf.best_params_['max_depth']))\n",
        "print('the best parameter for n_estimators is: '+str(clf.best_params_['n_estimators']))"
      ],
      "execution_count": 29,
      "outputs": [
        {
          "output_type": "display_data",
          "data": {
            "image/png": "[encoded data removed]",
            "text/plain": [
              "<Figure size 432x288 with 1 Axes>"
            ]
          },
          "metadata": {
            "tags": [],
            "needs_background": "light"
          }
        },
        {
          "output_type": "stream",
          "text": [
            "the best parameter for max_depth is: 15\n",
            "the best parameter for n_estimators is: 55\n"
          ],
          "name": "stdout"
        }
      ]
    },
    {
      "cell_type": "markdown",
      "metadata": {
        "id": "Tu8_M0vD_tUH",
        "colab_type": "text"
      },
      "source": [
        "## Model Evaluation"
      ]
    },
    {
      "cell_type": "code",
      "metadata": {
        "id": "ouVf-8fu_r_o",
        "colab_type": "code",
        "colab": {}
      },
      "source": [
        "train_x = model_train_x\n",
        "train_y = model_train_y\n",
        "test_x = model_test_x\n",
        "test_y = model_test_y"
      ],
      "execution_count": 30,
      "outputs": []
    },
    {
      "cell_type": "code",
      "metadata": {
        "id": "-nvmQkzK_nxS",
        "colab_type": "code",
        "colab": {
          "base_uri": "https://localhost:8080/",
          "height": 68
        },
        "outputId": "4f69d3c0-9e99-4e61-84f8-2ad3c3ac6e01"
      },
      "source": [
        "#For lasso\n",
        "from sklearn.linear_model import Lasso\n",
        "from sklearn.metrics import  mean_squared_error\n",
        "lasso=Lasso(alpha=model1_para)\n",
        "lasso.fit(train_x,train_y)\n",
        "pred_y=lasso.predict(test_x)\n",
        "lasso_score=lasso.score(test_x,test_y)\n",
        "MSE_lasso=mean_squared_error(test_y,pred_y)\n",
        "RMSE_lasso=np.sqrt(MSE_lasso)\n",
        "print ('lasso score: ', lasso_score)\n",
        "print ('Mean square error of lasso: ', MSE_lasso)\n",
        "print ('Root mean squared error of lasso:', RMSE_lasso)"
      ],
      "execution_count": 35,
      "outputs": [
        {
          "output_type": "stream",
          "text": [
            "lasso score:  0.18219394219238072\n",
            "Mean square error of lasso:  198762124.37727275\n",
            "Root mean squared error of lasso: 14098.302180662491\n"
          ],
          "name": "stdout"
        }
      ]
    },
    {
      "cell_type": "code",
      "metadata": {
        "id": "vX-LvPpXBVZI",
        "colab_type": "code",
        "colab": {
          "base_uri": "https://localhost:8080/",
          "height": 68
        },
        "outputId": "5f16f422-13c0-45b5-824a-22230d6d03c5"
      },
      "source": [
        "#for ridge\n",
        "from sklearn.metrics import  mean_squared_error\n",
        "ridge=Ridge(alpha=model2_para)\n",
        "ridge.fit(train_x,train_y)\n",
        "pred_y=ridge.predict(test_x)\n",
        "ridge_score=ridge.score(test_x,test_y)\n",
        "MSE_ridge=mean_squared_error(test_y,pred_y)\n",
        "RMSE_ridge=np.sqrt(MSE_ridge)\n",
        "print ('ridge score: ', ridge_score)\n",
        "print ('Mean square error of ridge: ', MSE_ridge)\n",
        "print ('Root mean squared error of ridge:', RMSE_ridge)"
      ],
      "execution_count": 36,
      "outputs": [
        {
          "output_type": "stream",
          "text": [
            "ridge score:  0.18295759731083594\n",
            "Mean square error of ridge:  198576523.26538736\n",
            "Root mean squared error of ridge: 14091.718250993643\n"
          ],
          "name": "stdout"
        }
      ]
    },
    {
      "cell_type": "code",
      "metadata": {
        "id": "9Fs_UxsSDWSC",
        "colab_type": "code",
        "colab": {
          "base_uri": "https://localhost:8080/",
          "height": 68
        },
        "outputId": "984a942c-19c7-4e94-f8b4-9a148bf6ea65"
      },
      "source": [
        "#for RF\n",
        "rf=RandomForestRegressor(n_estimators=clf.best_params_['n_estimators'],max_depth=clf.best_params_['max_depth'],max_features='sqrt',random_state=2,n_jobs=-1)\n",
        "rf.fit(train_x,train_y)\n",
        "pred_y=rf.predict(test_x)\n",
        "rf_score=rf.score(test_x,test_y)\n",
        "MSE_rf=mean_squared_error(test_y,pred_y)\n",
        "RMSE_rf=np.sqrt(MSE_rf)\n",
        "print ('rf score: ', rf_score)\n",
        "print ('Mean square error of rf: ', MSE_rf)\n",
        "print ('Root mean squared error of rf:', RMSE_rf)"
      ],
      "execution_count": 37,
      "outputs": [
        {
          "output_type": "stream",
          "text": [
            "rf score:  0.5076409361218535\n",
            "Mean square error of rf:  119664476.1414165\n",
            "Root mean squared error of rf: 10939.125931326347\n"
          ],
          "name": "stdout"
        }
      ]
    },
    {
      "cell_type": "code",
      "metadata": {
        "id": "ZQwSBn3GDdfH",
        "colab_type": "code",
        "colab": {
          "base_uri": "https://localhost:8080/",
          "height": 832
        },
        "outputId": "d302a75b-44d2-4d69-8e9a-0ca141066b63"
      },
      "source": [
        "lst_score = [lasso_score, ridge_score, rf_score]\n",
        "MSE_lst =  [MSE_lasso, MSE_ridge, MSE_rf]\n",
        "RMSE_lst =  [RMSE_lasso, RMSE_ridge, RMSE_rf]\n",
        "model_lst = ['Lasso_linear', 'Ridge linear', 'Random forest']\n",
        "\n",
        "plt.figure(1)\n",
        "plt.plot(model_lst, lst_score, 'ro')\n",
        "plt.legend(['r-squre / score'])\n",
        "plt.xlabel('model names',fontsize =16)\n",
        "plt.ylabel('score / r square', fontsize =16)\n",
        "plt.grid(True)\n",
        "plt.show()\n",
        "\n",
        "plt.figure(2)\n",
        "plt.plot(model_lst, MSE_lst, 'g^')\n",
        "plt.legend(['mean square error (MSE)'])\n",
        "plt.xlabel('model names', fontsize =16)\n",
        "plt.ylabel('mean square error', fontsize =16)\n",
        "plt.grid(True)\n",
        "plt.show()\n",
        "\n",
        "plt.figure(3)\n",
        "plt.plot(model_lst, RMSE_lst, 'bs')\n",
        "plt.legend(['root mean square error (RMSE)'])\n",
        "plt.xlabel('model names', fontsize =16)\n",
        "plt.ylabel('root mean square error', fontsize =16)\n",
        "plt.grid(True)\n",
        "plt.show()"
      ],
      "execution_count": 38,
      "outputs": [
        {
          "output_type": "display_data",
          "data": {
            "image/png": "[encoded data removed]",
            "text/plain": [
              "<Figure size 432x288 with 1 Axes>"
            ]
          },
          "metadata": {
            "tags": [],
            "needs_background": "light"
          }
        },
        {
          "output_type": "display_data",
          "data": {
            "image/png": "[encoded data removed]",
            "text/plain": [
              "<Figure size 432x288 with 1 Axes>"
            ]
          },
          "metadata": {
            "tags": [],
            "needs_background": "light"
          }
        },
        {
          "output_type": "display_data",
          "data": {
            "image/png": "[encoded data removed]",
            "text/plain": [
              "<Figure size 432x288 with 1 Axes>"
            ]
          },
          "metadata": {
            "tags": [],
            "needs_background": "light"
          }
        }
      ]
    },
    {
      "cell_type": "markdown",
      "metadata": {
        "id": "A7OQgrDvH9hL",
        "colab_type": "text"
      },
      "source": [
        "#### In conclusion, the RF model will be selected "
      ]
    },
    {
      "cell_type": "markdown",
      "metadata": {
        "id": "OULKVP5WIE_q",
        "colab_type": "text"
      },
      "source": [
        "## Feature Importance analysis"
      ]
    },
    {
      "cell_type": "code",
      "metadata": {
        "id": "kG0xxjGVEVgz",
        "colab_type": "code",
        "colab": {
          "base_uri": "https://localhost:8080/",
          "height": 374
        },
        "outputId": "816e2495-bd15-4d58-ab04-672bda23759c"
      },
      "source": [
        "importances = rf.feature_importances_\n",
        "feature_name = train_x.columns.values\n",
        "indices = np.argsort(importances)[::-1]\n",
        "plt.figure(1, figsize=(8,6))\n",
        "plt.barh(feature_name[indices[20:0:-1]], importances[indices[20:0:-1]])\n",
        "plt.show()"
      ],
      "execution_count": 49,
      "outputs": [
        {
          "output_type": "display_data",
          "data": {
            "image/png": "[encoded data removed]",
            "text/plain": [
              "<Figure size 576x432 with 1 Axes>"
            ]
          },
          "metadata": {
            "tags": [],
            "needs_background": "light"
          }
        }
      ]
    },
    {
      "cell_type": "code",
      "metadata": {
        "id": "uGQjTlYCIIsO",
        "colab_type": "code",
        "colab": {}
      },
      "source": [
        ""
      ],
      "execution_count": null,
      "outputs": []
    }
  ]
}
